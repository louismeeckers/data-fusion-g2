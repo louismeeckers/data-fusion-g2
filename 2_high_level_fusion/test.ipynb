{
 "cells": [
  {
   "cell_type": "code",
   "execution_count": 22,
   "metadata": {},
   "outputs": [],
   "source": [
    "import os\n",
    "import albumentations as A\n",
    "import matplotlib.pyplot as plt\n",
    "from collections import deque\n",
    "from PIL import Image\n",
    "import numpy as np\n",
    "import cv2\n",
    "import pandas as pd\n",
    "from tqdm import tqdm\n",
    "\n",
    "import torch\n",
    "\n",
    "from model import CNN\n",
    "from dataset import PlantDataset\n",
    "\n",
    "DATA_PATH = '../data/'"
   ]
  },
  {
   "attachments": {},
   "cell_type": "markdown",
   "metadata": {},
   "source": [
    "# Load models"
   ]
  },
  {
   "cell_type": "code",
   "execution_count": 17,
   "metadata": {},
   "outputs": [],
   "source": [
    "config = dict(\n",
    "\tbatch_size=16,\n",
    "\tdataset='Plant',\n",
    "\timage_height=480, # 480, 960\n",
    "\timage_width=640, # 640, 1280\n",
    ")\n",
    "\n",
    "config_color = dict(\n",
    "\timage_type='color',\n",
    "\tload_run='radiant-wind-78',\n",
    ")\n",
    "\n",
    "config_side = dict(\n",
    "\timage_type='side',\n",
    "\tload_run='super-glitter-79',\n",
    ")"
   ]
  },
  {
   "cell_type": "code",
   "execution_count": 19,
   "metadata": {},
   "outputs": [],
   "source": [
    "device = torch.device('cuda:0' if torch.cuda.is_available() else 'cpu')\n",
    "\n",
    "# Model color\n",
    "model_color = CNN().to(device)\n",
    "if config_color['load_run'] is not None:\n",
    "\tfilepath = f\"./runs/{config_color['load_run']}.pth.tar\"\n",
    "\tcheckpoint = torch.load(filepath)\n",
    "\tmodel_color.load_state_dict(checkpoint['state_dict'], strict=True)\n",
    "\n",
    "# Model side\n",
    "model_side = CNN().to(device)\n",
    "if config_side['load_run'] is not None:\n",
    "\tfilepath = f\"./runs/{config_side['load_run']}.pth.tar\"\n",
    "\tcheckpoint = torch.load(filepath)\n",
    "\tmodel_side.load_state_dict(checkpoint['state_dict'], strict=True)"
   ]
  },
  {
   "attachments": {},
   "cell_type": "markdown",
   "metadata": {},
   "source": [
    "# Inference"
   ]
  },
  {
   "cell_type": "code",
   "execution_count": 20,
   "metadata": {},
   "outputs": [],
   "source": [
    "resize = A.Compose(\n",
    "\t[\n",
    "\t\tA.Resize(height=config['image_height'], width=config['image_width']),\n",
    "\t],\n",
    ")"
   ]
  },
  {
   "cell_type": "code",
   "execution_count": 26,
   "metadata": {},
   "outputs": [
    {
     "name": "stderr",
     "output_type": "stream",
     "text": [
      "CNN inference: 100%|██████████| 13/13 [00:17<00:00,  1.32s/it]"
     ]
    },
    {
     "name": "stdout",
     "output_type": "stream",
     "text": [
      "Accuracy color: 0.9020618556701031\n",
      "Accuracy side: 0.9226804123711341\n",
      "Accuracy: 0.9329896907216495\n"
     ]
    },
    {
     "name": "stderr",
     "output_type": "stream",
     "text": [
      "\n"
     ]
    }
   ],
   "source": [
    "model_color.eval()\n",
    "model_side.eval()\n",
    "\n",
    "total_color, correct_color = 0, 0\n",
    "total_side, correct_side = 0, 0\n",
    "total, correct = 0, 0\n",
    "\n",
    "with torch.no_grad():\n",
    "\tdataset_valid = PlantDataset(set_dir='valid', transform=resize)\n",
    "\tloader_valid = torch.utils.data.DataLoader(dataset=dataset_valid, batch_size=config['batch_size'], shuffle=True, pin_memory=True, num_workers=2)\n",
    "\n",
    "\tfor inputs_color, inputs_side, labels in tqdm(loader_valid, desc='CNN inference', dynamic_ncols=True):\n",
    "\t\tinputs_color = inputs_color.float().to(device)\n",
    "\t\tinputs_side = inputs_side.float().to(device)\n",
    "\t\tlabels = labels.float().to(device)\n",
    "\n",
    "\t\t# Forward pass ➡\n",
    "\t\tpreds_color = model_color(inputs_color).squeeze()\n",
    "\t\tpreds_side = model_side(inputs_side).squeeze()\n",
    "\t\tpreds = (preds_color + preds_side) / 2\n",
    "\n",
    "\t\t# Accuracy\n",
    "\t\ttotal_color += labels.size(0)\n",
    "\t\tcorrect_color += (torch.round(preds_color) == torch.round(labels)).sum().item()\n",
    "\n",
    "\t\ttotal_side += labels.size(0)\n",
    "\t\tcorrect_side += (torch.round(preds_side) == torch.round(labels)).sum().item()\n",
    "\n",
    "\t\ttotal += labels.size(0)\n",
    "\t\tcorrect += (torch.round(preds) == torch.round(labels)).sum().item()\n",
    "\n",
    "print('Accuracy color:', correct_color/total_color)\n",
    "print('Accuracy side:', correct_side/total_side)\n",
    "print('Accuracy ML:', correct/total)"
   ]
  }
 ],
 "metadata": {
  "kernelspec": {
   "display_name": "Python 3",
   "language": "python",
   "name": "python3"
  },
  "language_info": {
   "codemirror_mode": {
    "name": "ipython",
    "version": 3
   },
   "file_extension": ".py",
   "mimetype": "text/x-python",
   "name": "python",
   "nbconvert_exporter": "python",
   "pygments_lexer": "ipython3",
   "version": "3.9.2"
  },
  "orig_nbformat": 4
 },
 "nbformat": 4,
 "nbformat_minor": 2
}
