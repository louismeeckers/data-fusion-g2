{
 "cells": [
  {
   "cell_type": "code",
   "execution_count": 2,
   "metadata": {},
   "outputs": [],
   "source": [
    "import os\n",
    "import albumentations as A\n",
    "import matplotlib.pyplot as plt\n",
    "from collections import deque\n",
    "from PIL import Image\n",
    "import numpy as np\n",
    "import cv2\n",
    "import pandas as pd\n",
    "from tqdm import tqdm\n",
    "\n",
    "import torch\n",
    "\n",
    "from model import CNN\n",
    "from dataset import PlantDataset\n",
    "\n",
    "DATA_PATH = '../data/'"
   ]
  },
  {
   "attachments": {},
   "cell_type": "markdown",
   "metadata": {},
   "source": [
    "# Load models"
   ]
  },
  {
   "cell_type": "code",
   "execution_count": 3,
   "metadata": {},
   "outputs": [],
   "source": [
    "config = dict(\n",
    "\tbatch_size=16,\n",
    "\tdataset='Plant',\n",
    "\timage_type='color_side',\n",
    "\timage_height=480, # 480, 960\n",
    "\timage_width=640, # 640, 1280\n",
    "\tload_run='pious-cosmos-89',\n",
    ")"
   ]
  },
  {
   "cell_type": "code",
   "execution_count": 4,
   "metadata": {},
   "outputs": [
    {
     "ename": "RuntimeError",
     "evalue": "Error(s) in loading state_dict for CNN:\n\tMissing key(s) in state_dict: \"layer1_5.0.weight\", \"layer1_5.0.bias\", \"layer1_5.1.weight\", \"layer1_5.1.bias\", \"layer1_5.1.running_mean\", \"layer1_5.1.running_var\", \"layer2_5.0.weight\", \"layer2_5.0.bias\", \"layer2_5.1.weight\", \"layer2_5.1.bias\", \"layer2_5.1.running_mean\", \"layer2_5.1.running_var\". \n\tUnexpected key(s) in state_dict: \"layer5.0.weight\", \"layer5.0.bias\", \"layer5.1.weight\", \"layer5.1.bias\", \"layer5.1.running_mean\", \"layer5.1.running_var\", \"layer5.1.num_batches_tracked\". ",
     "output_type": "error",
     "traceback": [
      "\u001b[1;31m---------------------------------------------------------------------------\u001b[0m",
      "\u001b[1;31mRuntimeError\u001b[0m                              Traceback (most recent call last)",
      "\u001b[1;32mc:\\Users\\louis\\OneDrive\\Bureau\\data-fusion-g2\\3_mid_level_fusion\\test.ipynb Cell 4\u001b[0m in \u001b[0;36m<cell line: 5>\u001b[1;34m()\u001b[0m\n\u001b[0;32m      <a href='vscode-notebook-cell:/c%3A/Users/louis/OneDrive/Bureau/data-fusion-g2/3_mid_level_fusion/test.ipynb#W3sZmlsZQ%3D%3D?line=5'>6</a>\u001b[0m filepath \u001b[39m=\u001b[39m \u001b[39mf\u001b[39m\u001b[39m\"\u001b[39m\u001b[39m./runs/\u001b[39m\u001b[39m{\u001b[39;00mconfig[\u001b[39m'\u001b[39m\u001b[39mload_run\u001b[39m\u001b[39m'\u001b[39m]\u001b[39m}\u001b[39;00m\u001b[39m.pth.tar\u001b[39m\u001b[39m\"\u001b[39m\n\u001b[0;32m      <a href='vscode-notebook-cell:/c%3A/Users/louis/OneDrive/Bureau/data-fusion-g2/3_mid_level_fusion/test.ipynb#W3sZmlsZQ%3D%3D?line=6'>7</a>\u001b[0m checkpoint \u001b[39m=\u001b[39m torch\u001b[39m.\u001b[39mload(filepath)\n\u001b[1;32m----> <a href='vscode-notebook-cell:/c%3A/Users/louis/OneDrive/Bureau/data-fusion-g2/3_mid_level_fusion/test.ipynb#W3sZmlsZQ%3D%3D?line=7'>8</a>\u001b[0m model\u001b[39m.\u001b[39;49mload_state_dict(checkpoint[\u001b[39m'\u001b[39;49m\u001b[39mstate_dict\u001b[39;49m\u001b[39m'\u001b[39;49m], strict\u001b[39m=\u001b[39;49m\u001b[39mTrue\u001b[39;49;00m)\n",
      "File \u001b[1;32mc:\\Users\\louis\\AppData\\Local\\Programs\\Python\\Python39\\lib\\site-packages\\torch\\nn\\modules\\module.py:2041\u001b[0m, in \u001b[0;36mModule.load_state_dict\u001b[1;34m(self, state_dict, strict)\u001b[0m\n\u001b[0;32m   2036\u001b[0m         error_msgs\u001b[39m.\u001b[39minsert(\n\u001b[0;32m   2037\u001b[0m             \u001b[39m0\u001b[39m, \u001b[39m'\u001b[39m\u001b[39mMissing key(s) in state_dict: \u001b[39m\u001b[39m{}\u001b[39;00m\u001b[39m. \u001b[39m\u001b[39m'\u001b[39m\u001b[39m.\u001b[39mformat(\n\u001b[0;32m   2038\u001b[0m                 \u001b[39m'\u001b[39m\u001b[39m, \u001b[39m\u001b[39m'\u001b[39m\u001b[39m.\u001b[39mjoin(\u001b[39m'\u001b[39m\u001b[39m\"\u001b[39m\u001b[39m{}\u001b[39;00m\u001b[39m\"\u001b[39m\u001b[39m'\u001b[39m\u001b[39m.\u001b[39mformat(k) \u001b[39mfor\u001b[39;00m k \u001b[39min\u001b[39;00m missing_keys)))\n\u001b[0;32m   2040\u001b[0m \u001b[39mif\u001b[39;00m \u001b[39mlen\u001b[39m(error_msgs) \u001b[39m>\u001b[39m \u001b[39m0\u001b[39m:\n\u001b[1;32m-> 2041\u001b[0m     \u001b[39mraise\u001b[39;00m \u001b[39mRuntimeError\u001b[39;00m(\u001b[39m'\u001b[39m\u001b[39mError(s) in loading state_dict for \u001b[39m\u001b[39m{}\u001b[39;00m\u001b[39m:\u001b[39m\u001b[39m\\n\u001b[39;00m\u001b[39m\\t\u001b[39;00m\u001b[39m{}\u001b[39;00m\u001b[39m'\u001b[39m\u001b[39m.\u001b[39mformat(\n\u001b[0;32m   2042\u001b[0m                        \u001b[39mself\u001b[39m\u001b[39m.\u001b[39m\u001b[39m__class__\u001b[39m\u001b[39m.\u001b[39m\u001b[39m__name__\u001b[39m, \u001b[39m\"\u001b[39m\u001b[39m\\n\u001b[39;00m\u001b[39m\\t\u001b[39;00m\u001b[39m\"\u001b[39m\u001b[39m.\u001b[39mjoin(error_msgs)))\n\u001b[0;32m   2043\u001b[0m \u001b[39mreturn\u001b[39;00m _IncompatibleKeys(missing_keys, unexpected_keys)\n",
      "\u001b[1;31mRuntimeError\u001b[0m: Error(s) in loading state_dict for CNN:\n\tMissing key(s) in state_dict: \"layer1_5.0.weight\", \"layer1_5.0.bias\", \"layer1_5.1.weight\", \"layer1_5.1.bias\", \"layer1_5.1.running_mean\", \"layer1_5.1.running_var\", \"layer2_5.0.weight\", \"layer2_5.0.bias\", \"layer2_5.1.weight\", \"layer2_5.1.bias\", \"layer2_5.1.running_mean\", \"layer2_5.1.running_var\". \n\tUnexpected key(s) in state_dict: \"layer5.0.weight\", \"layer5.0.bias\", \"layer5.1.weight\", \"layer5.1.bias\", \"layer5.1.running_mean\", \"layer5.1.running_var\", \"layer5.1.num_batches_tracked\". "
     ]
    }
   ],
   "source": [
    "device = torch.device('cuda:0' if torch.cuda.is_available() else 'cpu')\n",
    "\n",
    "# Model color_side\n",
    "model = CNN().to(device)\n",
    "if config['load_run'] is not None:\n",
    "\tfilepath = f\"./runs/{config['load_run']}.pth.tar\"\n",
    "\tcheckpoint = torch.load(filepath)\n",
    "\tmodel.load_state_dict(checkpoint['state_dict'], strict=True)"
   ]
  },
  {
   "attachments": {},
   "cell_type": "markdown",
   "metadata": {},
   "source": [
    "# Inference"
   ]
  },
  {
   "cell_type": "code",
   "execution_count": null,
   "metadata": {},
   "outputs": [],
   "source": [
    "resize = A.Compose(\n",
    "\t[\n",
    "\t\tA.Resize(height=config['image_height'], width=config['image_width']),\n",
    "\t],\n",
    ")"
   ]
  },
  {
   "cell_type": "code",
   "execution_count": null,
   "metadata": {},
   "outputs": [
    {
     "name": "stderr",
     "output_type": "stream",
     "text": [
      "CNN inference: 100%|██████████| 13/13 [00:56<00:00,  4.35s/it]"
     ]
    },
    {
     "name": "stdout",
     "output_type": "stream",
     "text": [
      "Accuracy HL: 0.9381443298969072\n"
     ]
    },
    {
     "name": "stderr",
     "output_type": "stream",
     "text": [
      "\n"
     ]
    }
   ],
   "source": [
    "model.eval()\n",
    "\n",
    "total, correct = 0, 0\n",
    "\n",
    "with torch.no_grad():\n",
    "\tdataset_valid = PlantDataset(set_dir='valid', transform=resize)\n",
    "\tloader_valid = torch.utils.data.DataLoader(dataset=dataset_valid, batch_size=config['batch_size'], shuffle=True, pin_memory=True, num_workers=2)\n",
    "\n",
    "\tfor inputs_color, inputs_side, labels in tqdm(loader_valid, desc='CNN inference', dynamic_ncols=True):\n",
    "\t\tinputs_color = inputs_color.float().to(device)\n",
    "\t\tinputs_side = inputs_side.float().to(device)\n",
    "\t\tlabels = labels.float().to(device)\n",
    "\n",
    "\t\t# Forward pass ➡\n",
    "\t\tpreds = model(inputs_color, inputs_side).squeeze()\n",
    "\n",
    "\t\t# Accuracy\n",
    "\t\ttotal += labels.size(0)\n",
    "\t\tcorrect += (torch.round(preds) == torch.round(labels)).sum().item()\n",
    "\n",
    "print('Accuracy ML:', correct/total)"
   ]
  }
 ],
 "metadata": {
  "kernelspec": {
   "display_name": "Python 3",
   "language": "python",
   "name": "python3"
  },
  "language_info": {
   "codemirror_mode": {
    "name": "ipython",
    "version": 3
   },
   "file_extension": ".py",
   "mimetype": "text/x-python",
   "name": "python",
   "nbconvert_exporter": "python",
   "pygments_lexer": "ipython3",
   "version": "3.9.2"
  },
  "orig_nbformat": 4
 },
 "nbformat": 4,
 "nbformat_minor": 2
}
