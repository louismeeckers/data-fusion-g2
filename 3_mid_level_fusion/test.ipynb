{
 "cells": [
  {
   "cell_type": "code",
   "execution_count": 13,
   "metadata": {},
   "outputs": [],
   "source": [
    "import os\n",
    "import albumentations as A\n",
    "import matplotlib.pyplot as plt\n",
    "from collections import deque\n",
    "from PIL import Image\n",
    "import numpy as np\n",
    "import cv2\n",
    "import pandas as pd\n",
    "from tqdm import tqdm\n",
    "\n",
    "import torch\n",
    "\n",
    "from model import CNN\n",
    "from dataset import PlantDataset\n",
    "\n",
    "DATA_PATH = '../data/'"
   ]
  },
  {
   "attachments": {},
   "cell_type": "markdown",
   "metadata": {},
   "source": [
    "# Load models"
   ]
  },
  {
   "cell_type": "code",
   "execution_count": 14,
   "metadata": {},
   "outputs": [],
   "source": [
    "config = dict(\n",
    "\tbatch_size=16,\n",
    "\tdataset='Plant',\n",
    "\timage_type='color_side',\n",
    "\timage_height=480, # 480, 960\n",
    "\timage_width=640, # 640, 1280\n",
    "\tload_run='unique-sponge-92', # solar-totem-91\n",
    ")"
   ]
  },
  {
   "cell_type": "code",
   "execution_count": 15,
   "metadata": {},
   "outputs": [],
   "source": [
    "device = torch.device('cuda:0' if torch.cuda.is_available() else 'cpu')\n",
    "\n",
    "# Model color_side\n",
    "model = CNN().to(device)\n",
    "if config['load_run'] is not None:\n",
    "\tfilepath = f\"./runs/{config['load_run']}.pth.tar\"\n",
    "\tcheckpoint = torch.load(filepath)\n",
    "\tmodel.load_state_dict(checkpoint['state_dict'], strict=True)"
   ]
  },
  {
   "attachments": {},
   "cell_type": "markdown",
   "metadata": {},
   "source": [
    "# Inference"
   ]
  },
  {
   "cell_type": "code",
   "execution_count": 16,
   "metadata": {},
   "outputs": [],
   "source": [
    "resize = A.Compose(\n",
    "\t[\n",
    "\t\tA.Resize(height=config['image_height'], width=config['image_width']),\n",
    "\t],\n",
    ")"
   ]
  },
  {
   "cell_type": "code",
   "execution_count": 17,
   "metadata": {},
   "outputs": [
    {
     "name": "stderr",
     "output_type": "stream",
     "text": [
      "CNN inference: 100%|██████████| 13/13 [00:37<00:00,  2.86s/it]"
     ]
    },
    {
     "name": "stdout",
     "output_type": "stream",
     "text": [
      "Accuracy ML: 0.9278350515463918\n"
     ]
    },
    {
     "name": "stderr",
     "output_type": "stream",
     "text": [
      "\n"
     ]
    }
   ],
   "source": [
    "model.eval()\n",
    "\n",
    "total, correct = 0, 0\n",
    "\n",
    "with torch.no_grad():\n",
    "\tdataset_valid = PlantDataset(set_dir='valid', transform=resize)\n",
    "\tloader_valid = torch.utils.data.DataLoader(dataset=dataset_valid, batch_size=config['batch_size'], shuffle=True, pin_memory=True, num_workers=2)\n",
    "\n",
    "\tfor inputs_color, inputs_side, labels in tqdm(loader_valid, desc='CNN inference', dynamic_ncols=True):\n",
    "\t\tinputs_color = inputs_color.float().to(device)\n",
    "\t\tinputs_side = inputs_side.float().to(device)\n",
    "\t\tlabels = labels.float().to(device)\n",
    "\n",
    "\t\t# Forward pass ➡\n",
    "\t\tpreds = model(inputs_color, inputs_side).squeeze()\n",
    "\n",
    "\t\t# Accuracy\n",
    "\t\ttotal += labels.size(0)\n",
    "\t\tcorrect += (torch.round(preds) == torch.round(labels)).sum().item()\n",
    "\n",
    "print('Accuracy ML:', correct/total)"
   ]
  }
 ],
 "metadata": {
  "kernelspec": {
   "display_name": "Python 3",
   "language": "python",
   "name": "python3"
  },
  "language_info": {
   "codemirror_mode": {
    "name": "ipython",
    "version": 3
   },
   "file_extension": ".py",
   "mimetype": "text/x-python",
   "name": "python",
   "nbconvert_exporter": "python",
   "pygments_lexer": "ipython3",
   "version": "3.9.2"
  },
  "orig_nbformat": 4
 },
 "nbformat": 4,
 "nbformat_minor": 2
}
