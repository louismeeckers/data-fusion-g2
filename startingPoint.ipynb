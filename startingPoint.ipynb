{
 "cells": [
  {
   "cell_type": "code",
   "execution_count": 1,
   "metadata": {
    "scrolled": false
   },
   "outputs": [
    {
     "name": "stdout",
     "output_type": "stream",
     "text": [
      "Each row is an image pair of one color and one side view of one specific plant, together with the expert opinion (1,2 = normal, 3,4 = abnormal).\n"
     ]
    },
    {
     "data": {
      "text/plain": "     Expert 1  Expert 2  Expert 3  Expert 4  \\\n0           4         4         4         4   \n1           1         1         1         1   \n2           1         1         1         1   \n3           4         4         3         3   \n4           3         1         1         1   \n..        ...       ...       ...       ...   \n989         1         1         1         1   \n990         1         1         1         1   \n991         1         1         1         1   \n992         2         3         3         3   \n993         3         3         3         3   \n\n                                        color_cam_path  \\\n0    data/A1/00387 Plant 0000 Plant 0000/18-02-2019...   \n1    data/A1/00388 Plant 0001 Plant 0001/18-02-2019...   \n2    data/A1/00389 Plant 0002 Plant 0002/18-02-2019...   \n3    data/A1/00390 Plant 0003 Plant 0003/18-02-2019...   \n4    data/A1/00391 Plant 0004 Plant 0004/18-02-2019...   \n..                                                 ...   \n989  data/B4/01019 Plant 0122 Plant 0122/18-02-2019...   \n990  data/B4/01020 Plant 0123 Plant 0123/18-02-2019...   \n991  data/B4/01021 Plant 0124 Plant 0124/18-02-2019...   \n992  data/B4/01022 Plant 0125 Plant 0125/18-02-2019...   \n993  data/B4/01023 Plant 0126 Plant 0126/18-02-2019...   \n\n                                         side_cam_path Rfid         Pos  \\\n0    data/A1/00387 Plant 0000 Plant 0000/18-02-2019...   A1  Plant 0000   \n1    data/A1/00388 Plant 0001 Plant 0001/18-02-2019...   A1  Plant 0001   \n2    data/A1/00389 Plant 0002 Plant 0002/18-02-2019...   A1  Plant 0002   \n3    data/A1/00390 Plant 0003 Plant 0003/18-02-2019...   A1  Plant 0003   \n4    data/A1/00391 Plant 0004 Plant 0004/18-02-2019...   A1  Plant 0004   \n..                                                 ...  ...         ...   \n989  data/B4/01019 Plant 0122 Plant 0122/18-02-2019...   B4  Plant 0122   \n990  data/B4/01020 Plant 0123 Plant 0123/18-02-2019...   B4  Plant 0123   \n991  data/B4/01021 Plant 0124 Plant 0124/18-02-2019...   B4  Plant 0124   \n992  data/B4/01022 Plant 0125 Plant 0125/18-02-2019...   B4  Plant 0125   \n993  data/B4/01023 Plant 0126 Plant 0126/18-02-2019...   B4  Plant 0126   \n\n     average_expert  \n0              4.00  \n1              1.00  \n2              1.00  \n3              3.50  \n4              1.50  \n..              ...  \n989            1.00  \n990            1.00  \n991            1.00  \n992            2.75  \n993            3.00  \n\n[994 rows x 9 columns]",
      "text/html": "<div>\n<style scoped>\n    .dataframe tbody tr th:only-of-type {\n        vertical-align: middle;\n    }\n\n    .dataframe tbody tr th {\n        vertical-align: top;\n    }\n\n    .dataframe thead th {\n        text-align: right;\n    }\n</style>\n<table border=\"1\" class=\"dataframe\">\n  <thead>\n    <tr style=\"text-align: right;\">\n      <th></th>\n      <th>Expert 1</th>\n      <th>Expert 2</th>\n      <th>Expert 3</th>\n      <th>Expert 4</th>\n      <th>color_cam_path</th>\n      <th>side_cam_path</th>\n      <th>Rfid</th>\n      <th>Pos</th>\n      <th>average_expert</th>\n    </tr>\n  </thead>\n  <tbody>\n    <tr>\n      <th>0</th>\n      <td>4</td>\n      <td>4</td>\n      <td>4</td>\n      <td>4</td>\n      <td>data/A1/00387 Plant 0000 Plant 0000/18-02-2019...</td>\n      <td>data/A1/00387 Plant 0000 Plant 0000/18-02-2019...</td>\n      <td>A1</td>\n      <td>Plant 0000</td>\n      <td>4.00</td>\n    </tr>\n    <tr>\n      <th>1</th>\n      <td>1</td>\n      <td>1</td>\n      <td>1</td>\n      <td>1</td>\n      <td>data/A1/00388 Plant 0001 Plant 0001/18-02-2019...</td>\n      <td>data/A1/00388 Plant 0001 Plant 0001/18-02-2019...</td>\n      <td>A1</td>\n      <td>Plant 0001</td>\n      <td>1.00</td>\n    </tr>\n    <tr>\n      <th>2</th>\n      <td>1</td>\n      <td>1</td>\n      <td>1</td>\n      <td>1</td>\n      <td>data/A1/00389 Plant 0002 Plant 0002/18-02-2019...</td>\n      <td>data/A1/00389 Plant 0002 Plant 0002/18-02-2019...</td>\n      <td>A1</td>\n      <td>Plant 0002</td>\n      <td>1.00</td>\n    </tr>\n    <tr>\n      <th>3</th>\n      <td>4</td>\n      <td>4</td>\n      <td>3</td>\n      <td>3</td>\n      <td>data/A1/00390 Plant 0003 Plant 0003/18-02-2019...</td>\n      <td>data/A1/00390 Plant 0003 Plant 0003/18-02-2019...</td>\n      <td>A1</td>\n      <td>Plant 0003</td>\n      <td>3.50</td>\n    </tr>\n    <tr>\n      <th>4</th>\n      <td>3</td>\n      <td>1</td>\n      <td>1</td>\n      <td>1</td>\n      <td>data/A1/00391 Plant 0004 Plant 0004/18-02-2019...</td>\n      <td>data/A1/00391 Plant 0004 Plant 0004/18-02-2019...</td>\n      <td>A1</td>\n      <td>Plant 0004</td>\n      <td>1.50</td>\n    </tr>\n    <tr>\n      <th>...</th>\n      <td>...</td>\n      <td>...</td>\n      <td>...</td>\n      <td>...</td>\n      <td>...</td>\n      <td>...</td>\n      <td>...</td>\n      <td>...</td>\n      <td>...</td>\n    </tr>\n    <tr>\n      <th>989</th>\n      <td>1</td>\n      <td>1</td>\n      <td>1</td>\n      <td>1</td>\n      <td>data/B4/01019 Plant 0122 Plant 0122/18-02-2019...</td>\n      <td>data/B4/01019 Plant 0122 Plant 0122/18-02-2019...</td>\n      <td>B4</td>\n      <td>Plant 0122</td>\n      <td>1.00</td>\n    </tr>\n    <tr>\n      <th>990</th>\n      <td>1</td>\n      <td>1</td>\n      <td>1</td>\n      <td>1</td>\n      <td>data/B4/01020 Plant 0123 Plant 0123/18-02-2019...</td>\n      <td>data/B4/01020 Plant 0123 Plant 0123/18-02-2019...</td>\n      <td>B4</td>\n      <td>Plant 0123</td>\n      <td>1.00</td>\n    </tr>\n    <tr>\n      <th>991</th>\n      <td>1</td>\n      <td>1</td>\n      <td>1</td>\n      <td>1</td>\n      <td>data/B4/01021 Plant 0124 Plant 0124/18-02-2019...</td>\n      <td>data/B4/01021 Plant 0124 Plant 0124/18-02-2019...</td>\n      <td>B4</td>\n      <td>Plant 0124</td>\n      <td>1.00</td>\n    </tr>\n    <tr>\n      <th>992</th>\n      <td>2</td>\n      <td>3</td>\n      <td>3</td>\n      <td>3</td>\n      <td>data/B4/01022 Plant 0125 Plant 0125/18-02-2019...</td>\n      <td>data/B4/01022 Plant 0125 Plant 0125/18-02-2019...</td>\n      <td>B4</td>\n      <td>Plant 0125</td>\n      <td>2.75</td>\n    </tr>\n    <tr>\n      <th>993</th>\n      <td>3</td>\n      <td>3</td>\n      <td>3</td>\n      <td>3</td>\n      <td>data/B4/01023 Plant 0126 Plant 0126/18-02-2019...</td>\n      <td>data/B4/01023 Plant 0126 Plant 0126/18-02-2019...</td>\n      <td>B4</td>\n      <td>Plant 0126</td>\n      <td>3.00</td>\n    </tr>\n  </tbody>\n</table>\n<p>994 rows × 9 columns</p>\n</div>"
     },
     "execution_count": 1,
     "metadata": {},
     "output_type": "execute_result"
    }
   ],
   "source": [
    "import pandas as pd\n",
    "import os\n",
    "import matplotlib.pyplot as plt\n",
    "import matplotlib.image as mpimg\n",
    "import warnings\n",
    "warnings.filterwarnings('ignore')\n",
    "\n",
    "# Enter path to the data_fusion_guest_lecture file\n",
    "image_folder_path = \"data\"  \n",
    "\n",
    "# Loads labels\n",
    "df = pd.read_csv(os.path.join(image_folder_path, \"seedling_labels.csv\"))\n",
    "\n",
    "# Creates path to top & side view\n",
    "df[\"color_cam_path\"] = image_folder_path + \"/\" + df[\"color_cam_path\"]\n",
    "df[\"side_cam_path\"] = image_folder_path + \"/\" + df[\"side_cam_path\"]\n",
    "\n",
    "# Gives average expert label as a starting point\n",
    "df[\"average_expert\"] = (df[\"Expert 1\"] + df[\"Expert 2\"]  + df[\"Expert 3\"] + df[\"Expert 4\"]) / 4\n",
    "print('Each row is an image pair of one color and one side view of one specific plant, together with the expert opinion (1,2 = normal, 3,4 = abnormal).')\n",
    "\n",
    "df"
   ]
  },
  {
   "cell_type": "markdown",
   "metadata": {},
   "source": [
    "## Generate a score using Cohen Kappa for each expert"
   ]
  },
  {
   "cell_type": "code",
   "execution_count": 2,
   "metadata": {},
   "outputs": [],
   "source": [
    "from sklearn.metrics import cohen_kappa_score\n",
    "import numpy as np\n",
    "from collections import Counter\n",
    "experts = [\"Expert 1\", \"Expert 2\", \"Expert 3\", \"Expert 4\" ]\n",
    "expert_Kappas=[[],[],[],[]]\n",
    "weights = []\n",
    "labels = []\n",
    "i=0 \n",
    "j=0\n",
    "\n",
    "for i in range(len(experts)):\n",
    "    for j in range(len(experts)):\n",
    "        if i!=j:\n",
    "            ratings = [df[experts[i]].values.tolist(),df[experts[j]].values.tolist()]\n",
    "            kappa = cohen_kappa_score(ratings[0],ratings[1])\n",
    "            expert_Kappas[i].append(kappa)\n",
    "\n",
    "for kappa in expert_Kappas:\n",
    "    weights.append(np.sum(kappa)/3)\n",
    "votes = df[[\"Expert 1\", \"Expert 2\",\"Expert 3\", \"Expert 4\"]].values.tolist()    \n",
    "for vote in votes:\n",
    "    weighted_votes = Counter()\n",
    "    for i, vot in enumerate(vote):\n",
    "        weighted_votes[vot] += weights[i]\n",
    "\n",
    "    # get the winner(s) of the vote\n",
    "    winners = [vote for vote, count in weighted_votes.items() if count == max(weighted_votes.values())]\n",
    "    labels.append(winners[0])\n",
    "    \n",
    "df[\"labels\"]  = labels\n",
    "# Round so we can replace\n",
    "df['average_expert_rounded'] = df['average_expert'].round(0).astype(np.int64)"
   ]
  },
  {
   "cell_type": "code",
   "execution_count": 3,
   "metadata": {},
   "outputs": [
    {
     "data": {
      "text/plain": "     Expert 1  Expert 2  Expert 3  Expert 4  \\\n0           4         4         4         4   \n1           1         1         1         1   \n2           1         1         1         1   \n3           4         4         3         3   \n4           3         1         1         1   \n..        ...       ...       ...       ...   \n989         1         1         1         1   \n990         1         1         1         1   \n991         1         1         1         1   \n992         2         3         3         3   \n993         3         3         3         3   \n\n                                        color_cam_path  \\\n0    data/A1/00387 Plant 0000 Plant 0000/18-02-2019...   \n1    data/A1/00388 Plant 0001 Plant 0001/18-02-2019...   \n2    data/A1/00389 Plant 0002 Plant 0002/18-02-2019...   \n3    data/A1/00390 Plant 0003 Plant 0003/18-02-2019...   \n4    data/A1/00391 Plant 0004 Plant 0004/18-02-2019...   \n..                                                 ...   \n989  data/B4/01019 Plant 0122 Plant 0122/18-02-2019...   \n990  data/B4/01020 Plant 0123 Plant 0123/18-02-2019...   \n991  data/B4/01021 Plant 0124 Plant 0124/18-02-2019...   \n992  data/B4/01022 Plant 0125 Plant 0125/18-02-2019...   \n993  data/B4/01023 Plant 0126 Plant 0126/18-02-2019...   \n\n                                         side_cam_path Rfid         Pos  \\\n0    data/A1/00387 Plant 0000 Plant 0000/18-02-2019...   A1  Plant 0000   \n1    data/A1/00388 Plant 0001 Plant 0001/18-02-2019...   A1  Plant 0001   \n2    data/A1/00389 Plant 0002 Plant 0002/18-02-2019...   A1  Plant 0002   \n3    data/A1/00390 Plant 0003 Plant 0003/18-02-2019...   A1  Plant 0003   \n4    data/A1/00391 Plant 0004 Plant 0004/18-02-2019...   A1  Plant 0004   \n..                                                 ...  ...         ...   \n989  data/B4/01019 Plant 0122 Plant 0122/18-02-2019...   B4  Plant 0122   \n990  data/B4/01020 Plant 0123 Plant 0123/18-02-2019...   B4  Plant 0123   \n991  data/B4/01021 Plant 0124 Plant 0124/18-02-2019...   B4  Plant 0124   \n992  data/B4/01022 Plant 0125 Plant 0125/18-02-2019...   B4  Plant 0125   \n993  data/B4/01023 Plant 0126 Plant 0126/18-02-2019...   B4  Plant 0126   \n\n     average_expert  labels  average_expert_rounded  \n0              4.00       4                       4  \n1              1.00       1                       1  \n2              1.00       1                       1  \n3              3.50       3                       4  \n4              1.50       1                       2  \n..              ...     ...                     ...  \n989            1.00       1                       1  \n990            1.00       1                       1  \n991            1.00       1                       1  \n992            2.75       3                       3  \n993            3.00       3                       3  \n\n[994 rows x 11 columns]",
      "text/html": "<div>\n<style scoped>\n    .dataframe tbody tr th:only-of-type {\n        vertical-align: middle;\n    }\n\n    .dataframe tbody tr th {\n        vertical-align: top;\n    }\n\n    .dataframe thead th {\n        text-align: right;\n    }\n</style>\n<table border=\"1\" class=\"dataframe\">\n  <thead>\n    <tr style=\"text-align: right;\">\n      <th></th>\n      <th>Expert 1</th>\n      <th>Expert 2</th>\n      <th>Expert 3</th>\n      <th>Expert 4</th>\n      <th>color_cam_path</th>\n      <th>side_cam_path</th>\n      <th>Rfid</th>\n      <th>Pos</th>\n      <th>average_expert</th>\n      <th>labels</th>\n      <th>average_expert_rounded</th>\n    </tr>\n  </thead>\n  <tbody>\n    <tr>\n      <th>0</th>\n      <td>4</td>\n      <td>4</td>\n      <td>4</td>\n      <td>4</td>\n      <td>data/A1/00387 Plant 0000 Plant 0000/18-02-2019...</td>\n      <td>data/A1/00387 Plant 0000 Plant 0000/18-02-2019...</td>\n      <td>A1</td>\n      <td>Plant 0000</td>\n      <td>4.00</td>\n      <td>4</td>\n      <td>4</td>\n    </tr>\n    <tr>\n      <th>1</th>\n      <td>1</td>\n      <td>1</td>\n      <td>1</td>\n      <td>1</td>\n      <td>data/A1/00388 Plant 0001 Plant 0001/18-02-2019...</td>\n      <td>data/A1/00388 Plant 0001 Plant 0001/18-02-2019...</td>\n      <td>A1</td>\n      <td>Plant 0001</td>\n      <td>1.00</td>\n      <td>1</td>\n      <td>1</td>\n    </tr>\n    <tr>\n      <th>2</th>\n      <td>1</td>\n      <td>1</td>\n      <td>1</td>\n      <td>1</td>\n      <td>data/A1/00389 Plant 0002 Plant 0002/18-02-2019...</td>\n      <td>data/A1/00389 Plant 0002 Plant 0002/18-02-2019...</td>\n      <td>A1</td>\n      <td>Plant 0002</td>\n      <td>1.00</td>\n      <td>1</td>\n      <td>1</td>\n    </tr>\n    <tr>\n      <th>3</th>\n      <td>4</td>\n      <td>4</td>\n      <td>3</td>\n      <td>3</td>\n      <td>data/A1/00390 Plant 0003 Plant 0003/18-02-2019...</td>\n      <td>data/A1/00390 Plant 0003 Plant 0003/18-02-2019...</td>\n      <td>A1</td>\n      <td>Plant 0003</td>\n      <td>3.50</td>\n      <td>3</td>\n      <td>4</td>\n    </tr>\n    <tr>\n      <th>4</th>\n      <td>3</td>\n      <td>1</td>\n      <td>1</td>\n      <td>1</td>\n      <td>data/A1/00391 Plant 0004 Plant 0004/18-02-2019...</td>\n      <td>data/A1/00391 Plant 0004 Plant 0004/18-02-2019...</td>\n      <td>A1</td>\n      <td>Plant 0004</td>\n      <td>1.50</td>\n      <td>1</td>\n      <td>2</td>\n    </tr>\n    <tr>\n      <th>...</th>\n      <td>...</td>\n      <td>...</td>\n      <td>...</td>\n      <td>...</td>\n      <td>...</td>\n      <td>...</td>\n      <td>...</td>\n      <td>...</td>\n      <td>...</td>\n      <td>...</td>\n      <td>...</td>\n    </tr>\n    <tr>\n      <th>989</th>\n      <td>1</td>\n      <td>1</td>\n      <td>1</td>\n      <td>1</td>\n      <td>data/B4/01019 Plant 0122 Plant 0122/18-02-2019...</td>\n      <td>data/B4/01019 Plant 0122 Plant 0122/18-02-2019...</td>\n      <td>B4</td>\n      <td>Plant 0122</td>\n      <td>1.00</td>\n      <td>1</td>\n      <td>1</td>\n    </tr>\n    <tr>\n      <th>990</th>\n      <td>1</td>\n      <td>1</td>\n      <td>1</td>\n      <td>1</td>\n      <td>data/B4/01020 Plant 0123 Plant 0123/18-02-2019...</td>\n      <td>data/B4/01020 Plant 0123 Plant 0123/18-02-2019...</td>\n      <td>B4</td>\n      <td>Plant 0123</td>\n      <td>1.00</td>\n      <td>1</td>\n      <td>1</td>\n    </tr>\n    <tr>\n      <th>991</th>\n      <td>1</td>\n      <td>1</td>\n      <td>1</td>\n      <td>1</td>\n      <td>data/B4/01021 Plant 0124 Plant 0124/18-02-2019...</td>\n      <td>data/B4/01021 Plant 0124 Plant 0124/18-02-2019...</td>\n      <td>B4</td>\n      <td>Plant 0124</td>\n      <td>1.00</td>\n      <td>1</td>\n      <td>1</td>\n    </tr>\n    <tr>\n      <th>992</th>\n      <td>2</td>\n      <td>3</td>\n      <td>3</td>\n      <td>3</td>\n      <td>data/B4/01022 Plant 0125 Plant 0125/18-02-2019...</td>\n      <td>data/B4/01022 Plant 0125 Plant 0125/18-02-2019...</td>\n      <td>B4</td>\n      <td>Plant 0125</td>\n      <td>2.75</td>\n      <td>3</td>\n      <td>3</td>\n    </tr>\n    <tr>\n      <th>993</th>\n      <td>3</td>\n      <td>3</td>\n      <td>3</td>\n      <td>3</td>\n      <td>data/B4/01023 Plant 0126 Plant 0126/18-02-2019...</td>\n      <td>data/B4/01023 Plant 0126 Plant 0126/18-02-2019...</td>\n      <td>B4</td>\n      <td>Plant 0126</td>\n      <td>3.00</td>\n      <td>3</td>\n      <td>3</td>\n    </tr>\n  </tbody>\n</table>\n<p>994 rows × 11 columns</p>\n</div>"
     },
     "execution_count": 3,
     "metadata": {},
     "output_type": "execute_result"
    }
   ],
   "source": [
    "df"
   ]
  },
  {
   "cell_type": "code",
   "execution_count": 4,
   "metadata": {},
   "outputs": [
    {
     "name": "stdout",
     "output_type": "stream",
     "text": [
      "The percentage of differences between the two columns is: 7.55%\n",
      "The number of differences between the two columns is: 75\n"
     ]
    }
   ],
   "source": [
    "# create a Boolean DataFrame indicating where the two columns are equal\n",
    "equal_df = df[\"labels\"].eq(df[\"average_expert_rounded\"])\n",
    "\n",
    "# calculate the percentage of differences\n",
    "diff_percentage = 100 - (equal_df.sum() / equal_df.count() * 100)\n",
    "\n",
    "print(f\"The percentage of differences between the two columns is: {diff_percentage:.2f}%\")\n",
    "\n",
    "diff_count = (~equal_df).sum()\n",
    "\n",
    "print(f\"The number of differences between the two columns is: {diff_count}\")"
   ]
  },
  {
   "cell_type": "markdown",
   "metadata": {},
   "source": [
    "## Convert (1,2 = normal, 3,4 = abnormal) because it will be binary classification"
   ]
  },
  {
   "cell_type": "code",
   "execution_count": 5,
   "metadata": {},
   "outputs": [
    {
     "data": {
      "text/plain": "     Expert 1  Expert 2  Expert 3  Expert 4  \\\n0           1         1         1         1   \n1           0         0         0         0   \n2           0         0         0         0   \n3           1         1         1         1   \n4           1         0         0         0   \n..        ...       ...       ...       ...   \n989         0         0         0         0   \n990         0         0         0         0   \n991         0         0         0         0   \n992         0         1         1         1   \n993         1         1         1         1   \n\n                                        color_cam_path  \\\n0    data/A1/00387 Plant 0000 Plant 0000/18-02-2019...   \n1    data/A1/00388 Plant 0001 Plant 0001/18-02-2019...   \n2    data/A1/00389 Plant 0002 Plant 0002/18-02-2019...   \n3    data/A1/00390 Plant 0003 Plant 0003/18-02-2019...   \n4    data/A1/00391 Plant 0004 Plant 0004/18-02-2019...   \n..                                                 ...   \n989  data/B4/01019 Plant 0122 Plant 0122/18-02-2019...   \n990  data/B4/01020 Plant 0123 Plant 0123/18-02-2019...   \n991  data/B4/01021 Plant 0124 Plant 0124/18-02-2019...   \n992  data/B4/01022 Plant 0125 Plant 0125/18-02-2019...   \n993  data/B4/01023 Plant 0126 Plant 0126/18-02-2019...   \n\n                                         side_cam_path Rfid         Pos  \\\n0    data/A1/00387 Plant 0000 Plant 0000/18-02-2019...   A1  Plant 0000   \n1    data/A1/00388 Plant 0001 Plant 0001/18-02-2019...   A1  Plant 0001   \n2    data/A1/00389 Plant 0002 Plant 0002/18-02-2019...   A1  Plant 0002   \n3    data/A1/00390 Plant 0003 Plant 0003/18-02-2019...   A1  Plant 0003   \n4    data/A1/00391 Plant 0004 Plant 0004/18-02-2019...   A1  Plant 0004   \n..                                                 ...  ...         ...   \n989  data/B4/01019 Plant 0122 Plant 0122/18-02-2019...   B4  Plant 0122   \n990  data/B4/01020 Plant 0123 Plant 0123/18-02-2019...   B4  Plant 0123   \n991  data/B4/01021 Plant 0124 Plant 0124/18-02-2019...   B4  Plant 0124   \n992  data/B4/01022 Plant 0125 Plant 0125/18-02-2019...   B4  Plant 0125   \n993  data/B4/01023 Plant 0126 Plant 0126/18-02-2019...   B4  Plant 0126   \n\n     average_expert  labels  average_expert_rounded  \n0              1.00       1                       4  \n1              0.00       0                       1  \n2              0.00       0                       1  \n3              3.50       1                       4  \n4              1.50       0                       2  \n..              ...     ...                     ...  \n989            0.00       0                       1  \n990            0.00       0                       1  \n991            0.00       0                       1  \n992            2.75       1                       3  \n993            1.00       1                       3  \n\n[994 rows x 11 columns]",
      "text/html": "<div>\n<style scoped>\n    .dataframe tbody tr th:only-of-type {\n        vertical-align: middle;\n    }\n\n    .dataframe tbody tr th {\n        vertical-align: top;\n    }\n\n    .dataframe thead th {\n        text-align: right;\n    }\n</style>\n<table border=\"1\" class=\"dataframe\">\n  <thead>\n    <tr style=\"text-align: right;\">\n      <th></th>\n      <th>Expert 1</th>\n      <th>Expert 2</th>\n      <th>Expert 3</th>\n      <th>Expert 4</th>\n      <th>color_cam_path</th>\n      <th>side_cam_path</th>\n      <th>Rfid</th>\n      <th>Pos</th>\n      <th>average_expert</th>\n      <th>labels</th>\n      <th>average_expert_rounded</th>\n    </tr>\n  </thead>\n  <tbody>\n    <tr>\n      <th>0</th>\n      <td>1</td>\n      <td>1</td>\n      <td>1</td>\n      <td>1</td>\n      <td>data/A1/00387 Plant 0000 Plant 0000/18-02-2019...</td>\n      <td>data/A1/00387 Plant 0000 Plant 0000/18-02-2019...</td>\n      <td>A1</td>\n      <td>Plant 0000</td>\n      <td>1.00</td>\n      <td>1</td>\n      <td>4</td>\n    </tr>\n    <tr>\n      <th>1</th>\n      <td>0</td>\n      <td>0</td>\n      <td>0</td>\n      <td>0</td>\n      <td>data/A1/00388 Plant 0001 Plant 0001/18-02-2019...</td>\n      <td>data/A1/00388 Plant 0001 Plant 0001/18-02-2019...</td>\n      <td>A1</td>\n      <td>Plant 0001</td>\n      <td>0.00</td>\n      <td>0</td>\n      <td>1</td>\n    </tr>\n    <tr>\n      <th>2</th>\n      <td>0</td>\n      <td>0</td>\n      <td>0</td>\n      <td>0</td>\n      <td>data/A1/00389 Plant 0002 Plant 0002/18-02-2019...</td>\n      <td>data/A1/00389 Plant 0002 Plant 0002/18-02-2019...</td>\n      <td>A1</td>\n      <td>Plant 0002</td>\n      <td>0.00</td>\n      <td>0</td>\n      <td>1</td>\n    </tr>\n    <tr>\n      <th>3</th>\n      <td>1</td>\n      <td>1</td>\n      <td>1</td>\n      <td>1</td>\n      <td>data/A1/00390 Plant 0003 Plant 0003/18-02-2019...</td>\n      <td>data/A1/00390 Plant 0003 Plant 0003/18-02-2019...</td>\n      <td>A1</td>\n      <td>Plant 0003</td>\n      <td>3.50</td>\n      <td>1</td>\n      <td>4</td>\n    </tr>\n    <tr>\n      <th>4</th>\n      <td>1</td>\n      <td>0</td>\n      <td>0</td>\n      <td>0</td>\n      <td>data/A1/00391 Plant 0004 Plant 0004/18-02-2019...</td>\n      <td>data/A1/00391 Plant 0004 Plant 0004/18-02-2019...</td>\n      <td>A1</td>\n      <td>Plant 0004</td>\n      <td>1.50</td>\n      <td>0</td>\n      <td>2</td>\n    </tr>\n    <tr>\n      <th>...</th>\n      <td>...</td>\n      <td>...</td>\n      <td>...</td>\n      <td>...</td>\n      <td>...</td>\n      <td>...</td>\n      <td>...</td>\n      <td>...</td>\n      <td>...</td>\n      <td>...</td>\n      <td>...</td>\n    </tr>\n    <tr>\n      <th>989</th>\n      <td>0</td>\n      <td>0</td>\n      <td>0</td>\n      <td>0</td>\n      <td>data/B4/01019 Plant 0122 Plant 0122/18-02-2019...</td>\n      <td>data/B4/01019 Plant 0122 Plant 0122/18-02-2019...</td>\n      <td>B4</td>\n      <td>Plant 0122</td>\n      <td>0.00</td>\n      <td>0</td>\n      <td>1</td>\n    </tr>\n    <tr>\n      <th>990</th>\n      <td>0</td>\n      <td>0</td>\n      <td>0</td>\n      <td>0</td>\n      <td>data/B4/01020 Plant 0123 Plant 0123/18-02-2019...</td>\n      <td>data/B4/01020 Plant 0123 Plant 0123/18-02-2019...</td>\n      <td>B4</td>\n      <td>Plant 0123</td>\n      <td>0.00</td>\n      <td>0</td>\n      <td>1</td>\n    </tr>\n    <tr>\n      <th>991</th>\n      <td>0</td>\n      <td>0</td>\n      <td>0</td>\n      <td>0</td>\n      <td>data/B4/01021 Plant 0124 Plant 0124/18-02-2019...</td>\n      <td>data/B4/01021 Plant 0124 Plant 0124/18-02-2019...</td>\n      <td>B4</td>\n      <td>Plant 0124</td>\n      <td>0.00</td>\n      <td>0</td>\n      <td>1</td>\n    </tr>\n    <tr>\n      <th>992</th>\n      <td>0</td>\n      <td>1</td>\n      <td>1</td>\n      <td>1</td>\n      <td>data/B4/01022 Plant 0125 Plant 0125/18-02-2019...</td>\n      <td>data/B4/01022 Plant 0125 Plant 0125/18-02-2019...</td>\n      <td>B4</td>\n      <td>Plant 0125</td>\n      <td>2.75</td>\n      <td>1</td>\n      <td>3</td>\n    </tr>\n    <tr>\n      <th>993</th>\n      <td>1</td>\n      <td>1</td>\n      <td>1</td>\n      <td>1</td>\n      <td>data/B4/01023 Plant 0126 Plant 0126/18-02-2019...</td>\n      <td>data/B4/01023 Plant 0126 Plant 0126/18-02-2019...</td>\n      <td>B4</td>\n      <td>Plant 0126</td>\n      <td>1.00</td>\n      <td>1</td>\n      <td>3</td>\n    </tr>\n  </tbody>\n</table>\n<p>994 rows × 11 columns</p>\n</div>"
     },
     "execution_count": 5,
     "metadata": {},
     "output_type": "execute_result"
    }
   ],
   "source": [
    "# 0 = normal\n",
    "# 1 = abnormal\n",
    "\n",
    "df[['Expert 1', 'Expert 2', 'Expert 3', 'Expert 4', 'average_expert', 'labels']] = df[['Expert 1', 'Expert 2', 'Expert 3', 'Expert 4', 'average_expert', 'labels']].replace({1: 0, 2: 0})\n",
    "df[['Expert 1', 'Expert 2', 'Expert 3', 'Expert 4', 'average_expert', 'labels']] = df[['Expert 1', 'Expert 2', 'Expert 3', 'Expert 4', 'average_expert', 'labels']].replace([3,4], 1)\n",
    "\n",
    "df"
   ]
  },
  {
   "cell_type": "markdown",
   "metadata": {},
   "source": [
    "### Model Training"
   ]
  },
  {
   "cell_type": "code",
   "execution_count": 10,
   "metadata": {},
   "outputs": [],
   "source": [
    "from sklearn.model_selection import train_test_split\n",
    "from tensorflow.keras.utils import to_categorical\n",
    "\n",
    "train_df, test_df = train_test_split(df, test_size=0.2, random_state=42)"
   ]
  },
  {
   "cell_type": "markdown",
   "metadata": {},
   "source": [
    "## CNN using transfer learning with MobileNetV2 as the base model\n",
    "The MobileNetV2 model is used as a feature extractor and then the extracted features are flattened and passed through a few dense layers with dropout before the final classification layer. The model is then trained on the input images using the ```ImageDataGenerator``` to generate batches of augmented images and passed through the model."
   ]
  },
  {
   "cell_type": "markdown",
   "metadata": {},
   "source": [
    "###### COLOR CAM, MODEL 1"
   ]
  },
  {
   "cell_type": "code",
   "execution_count": 11,
   "metadata": {},
   "outputs": [
    {
     "name": "stdout",
     "output_type": "stream",
     "text": [
      "Found 795 validated image filenames.\n",
      "Found 199 validated image filenames.\n"
     ]
    }
   ],
   "source": [
    "import pandas as pd\n",
    "import tensorflow as tf\n",
    "from tensorflow.keras.preprocessing.image import ImageDataGenerator\n",
    "from tensorflow.keras.layers import Dense, Flatten, Dropout\n",
    "from tensorflow.keras.applications.mobilenet_v2 import MobileNetV2\n",
    "from tensorflow.keras.optimizers import Adam\n",
    "\n",
    "# Set up a TensorFlow session to use the GPU if available\n",
    "gpus = tf.config.experimental.list_physical_devices('GPU')\n",
    "if gpus:\n",
    "    try:\n",
    "        tf.config.experimental.set_virtual_device_configuration(gpus[0],\n",
    "            [tf.config.experimental.VirtualDeviceConfiguration(memory_limit=1024)])\n",
    "    except RuntimeError as e:\n",
    "        print(e)\n",
    "\n",
    "train_datagen = ImageDataGenerator(\n",
    "    rescale=1./255,\n",
    "    shear_range=0.2,\n",
    "    zoom_range=0.2,\n",
    "    horizontal_flip=True)\n",
    "\n",
    "test_datagen = ImageDataGenerator(rescale=1./255)\n",
    "\n",
    "train_generator1 = train_datagen.flow_from_dataframe(\n",
    "    train_df,\n",
    "    x_col='color_cam_path',\n",
    "    y_col='labels',\n",
    "    target_size=(224, 224),\n",
    "    batch_size=8,\n",
    "    class_mode='raw')\n",
    "\n",
    "test_generator1 = test_datagen.flow_from_dataframe(\n",
    "    test_df,\n",
    "    x_col='color_cam_path',\n",
    "    y_col='labels',\n",
    "    target_size=(224, 224),\n",
    "    batch_size=8,\n",
    "    class_mode='raw')"
   ]
  },
  {
   "cell_type": "code",
   "execution_count": 84,
   "metadata": {
    "scrolled": false
   },
   "outputs": [
    {
     "name": "stdout",
     "output_type": "stream",
     "text": [
      "Found 795 validated image filenames.\n",
      "Found 199 validated image filenames.\n",
      "Downloading data from https://storage.googleapis.com/tensorflow/keras-applications/mobilenet_v2/mobilenet_v2_weights_tf_dim_ordering_tf_kernels_1.0_224_no_top.h5\n",
      "9406464/9406464 [==============================] - 4s 0us/step\n"
     ]
    },
    {
     "name": "stderr",
     "output_type": "stream",
     "text": [
      "WARNING:absl:`lr` is deprecated, please use `learning_rate` instead, or use the legacy optimizer, e.g.,tf.keras.optimizers.legacy.Adam.\n"
     ]
    },
    {
     "name": "stdout",
     "output_type": "stream",
     "text": [
      "Epoch 1/5\n",
      "100/100 [==============================] - 92s 806ms/step - loss: 2.8164 - accuracy: 0.8113\n",
      "Epoch 2/5\n",
      "100/100 [==============================] - 79s 793ms/step - loss: 0.4549 - accuracy: 0.8742\n",
      "Epoch 3/5\n",
      "100/100 [==============================] - 78s 781ms/step - loss: 0.3524 - accuracy: 0.8742\n",
      "Epoch 4/5\n",
      "100/100 [==============================] - 81s 805ms/step - loss: 0.3392 - accuracy: 0.8956\n",
      "Epoch 5/5\n",
      "100/100 [==============================] - 83s 833ms/step - loss: 0.3644 - accuracy: 0.8906\n",
      "25/25 [==============================] - 16s 564ms/step\n"
     ]
    }
   ],
   "source": [
    "# load the MobileNetV2 model\n",
    "mobilenet_model = MobileNetV2(weights='imagenet', include_top=False, input_shape=(224, 224, 3))\n",
    "\n",
    "# unfreeze the last few layers for fine-tuning\n",
    "for layer in mobilenet_model.layers[:-4]:\n",
    "    layer.trainable = False\n",
    "\n",
    "# build the model\n",
    "model = tf.keras.models.Sequential([\n",
    "    mobilenet_model,\n",
    "    Flatten(),\n",
    "    Dense(128, activation='relu'),\n",
    "    Dropout(0.5),\n",
    "    Dense(1, activation='sigmoid')\n",
    "])\n",
    "\n",
    "# compile the model\n",
    "model.compile(optimizer=Adam(lr=0.0001), loss='binary_crossentropy', metrics=['accuracy'])\n",
    "\n",
    "# train the model\n",
    "model.fit(train_generator, epochs=5)"
   ]
  },
  {
   "cell_type": "markdown",
   "metadata": {},
   "source": [
    "###### Save model so it can be used later again without training again"
   ]
  },
  {
   "cell_type": "code",
   "execution_count": 92,
   "metadata": {},
   "outputs": [],
   "source": [
    "# save the model to a file\n",
    "model.save('model1_color_cam.h5') # Accurary was 0.909547746181488"
   ]
  },
  {
   "cell_type": "markdown",
   "metadata": {},
   "source": [
    "###### SIDE CAM, MODEL 2"
   ]
  },
  {
   "cell_type": "code",
   "execution_count": 47,
   "metadata": {},
   "outputs": [
    {
     "name": "stdout",
     "output_type": "stream",
     "text": [
      "Found 795 validated image filenames.\n",
      "Found 199 validated image filenames.\n"
     ]
    }
   ],
   "source": [
    "import pandas as pd\n",
    "import tensorflow as tf\n",
    "from tensorflow.keras.preprocessing.image import ImageDataGenerator\n",
    "from tensorflow.keras.layers import Dense, Flatten, Dropout\n",
    "from tensorflow.keras.applications.mobilenet_v2 import MobileNetV2\n",
    "from tensorflow.keras.optimizers import Adam\n",
    "\n",
    "# Set up a TensorFlow session to use the GPU if available\n",
    "gpus = tf.config.experimental.list_physical_devices('GPU')\n",
    "if gpus:\n",
    "    try:\n",
    "        tf.config.experimental.set_virtual_device_configuration(gpus[0],\n",
    "            [tf.config.experimental.VirtualDeviceConfiguration(memory_limit=1024)])\n",
    "    except RuntimeError as e:\n",
    "        print(e)\n",
    "\n",
    "# Define the data generators\n",
    "train_datagen = ImageDataGenerator(\n",
    "    rescale=1./255,\n",
    "    shear_range=0.2,\n",
    "    zoom_range=0.2,\n",
    "    horizontal_flip=True,\n",
    "    rotation_range=20,\n",
    "    width_shift_range=0.1,\n",
    "    height_shift_range=0.1)\n",
    "\n",
    "test_datagen = ImageDataGenerator(rescale=1./255)\n",
    "\n",
    "train_generator2 = train_datagen.flow_from_dataframe(\n",
    "    train_df,\n",
    "    x_col='side_cam_path',\n",
    "    y_col='labels',\n",
    "    target_size=(224, 224),\n",
    "    batch_size=10,\n",
    "    class_mode='raw')\n",
    "\n",
    "test_generator2 = test_datagen.flow_from_dataframe(\n",
    "    test_df,\n",
    "    x_col='side_cam_path',\n",
    "    y_col='labels',\n",
    "    target_size=(224, 224),\n",
    "    batch_size=10,\n",
    "    class_mode='raw')"
   ]
  },
  {
   "cell_type": "code",
   "execution_count": 49,
   "metadata": {
    "scrolled": false
   },
   "outputs": [
    {
     "name": "stderr",
     "output_type": "stream",
     "text": [
      "WARNING:absl:`lr` is deprecated, please use `learning_rate` instead, or use the legacy optimizer, e.g.,tf.keras.optimizers.legacy.Adam.\n"
     ]
    },
    {
     "name": "stdout",
     "output_type": "stream",
     "text": [
      "Epoch 1/8\n",
      "80/80 [==============================] - 262s 3s/step - loss: 0.6911 - accuracy: 0.6742\n",
      "Epoch 2/8\n",
      "80/80 [==============================] - 268s 3s/step - loss: 0.4211 - accuracy: 0.8277\n",
      "Epoch 3/8\n",
      "80/80 [==============================] - 268s 3s/step - loss: 0.2662 - accuracy: 0.9195\n",
      "Epoch 4/8\n",
      "80/80 [==============================] - 266s 3s/step - loss: 0.2231 - accuracy: 0.9069\n",
      "Epoch 5/8\n",
      "80/80 [==============================] - 263s 3s/step - loss: 0.2249 - accuracy: 0.9283\n",
      "Epoch 6/8\n",
      "80/80 [==============================] - 262s 3s/step - loss: 0.2331 - accuracy: 0.9245\n",
      "Epoch 7/8\n",
      "80/80 [==============================] - 263s 3s/step - loss: 0.3252 - accuracy: 0.9057\n",
      "Epoch 8/8\n",
      "80/80 [==============================] - 263s 3s/step - loss: 0.2385 - accuracy: 0.9157\n"
     ]
    },
    {
     "data": {
      "text/plain": [
       "<keras.callbacks.History at 0x173b5c6aac0>"
      ]
     },
     "execution_count": 49,
     "metadata": {},
     "output_type": "execute_result"
    }
   ],
   "source": [
    "# load the MobileNetV2 model\n",
    "mobilenet_model = MobileNetV2(weights='imagenet', include_top=False, input_shape=(224, 224, 3))\n",
    "\n",
    "# unfreeze the last few layers for fine-tuning\n",
    "for layer in mobilenet_model.layers[:-4]:\n",
    "    layer.trainable = False\n",
    "\n",
    "# build the model\n",
    "model2 = tf.keras.models.Sequential([\n",
    "    mobilenet_model,\n",
    "    Flatten(),\n",
    "    Dense(128, activation='relu'),\n",
    "    Dropout(0.5),\n",
    "    Dense(1, activation='sigmoid')\n",
    "])\n",
    "\n",
    "# compile the model\n",
    "model2.compile(optimizer=Adam(lr=0.0001), loss='binary_crossentropy', metrics=['accuracy'])\n",
    "\n",
    "# train the model\n",
    "model2.fit(train_generator2, epochs=5)"
   ]
  },
  {
   "cell_type": "markdown",
   "metadata": {},
   "source": [
    "###### Save model so it can be used later again without training again"
   ]
  },
  {
   "cell_type": "code",
   "execution_count": 96,
   "metadata": {},
   "outputs": [],
   "source": [
    "# save the model to a file\n",
    "model2.save('model2_side_cam.h5') # Accurary was 0.8994975090026855"
   ]
  },
  {
   "cell_type": "markdown",
   "metadata": {},
   "source": [
    "### Load already trained models and predict"
   ]
  },
  {
   "cell_type": "code",
   "execution_count": 54,
   "metadata": {},
   "outputs": [],
   "source": [
    "from tensorflow.keras.models import load_model\n",
    "\n",
    "model1 = load_model('model1_color_cam.h5')\n",
    "model2 = load_model('model2_side_cam.h5')"
   ]
  },
  {
   "cell_type": "code",
   "execution_count": 61,
   "metadata": {},
   "outputs": [
    {
     "name": "stdout",
     "output_type": "stream",
     "text": [
      "25/25 [==============================] - 11s 419ms/step\n",
      "Prediction done, Model 1\n",
      "20/20 [==============================] - 9s 422ms/step\n",
      "Prediction done, Model 2\n",
      "25/25 [==============================] - 15s 604ms/step - loss: 0.2489 - accuracy: 0.9095\n",
      "Accuracy on test set for model number 1 :  0.909547746181488\n",
      "20/20 [==============================] - 8s 411ms/step - loss: 0.6707 - accuracy: 0.8995\n",
      "Accuracy on test set for model number 2 :  0.8994975090026855\n"
     ]
    }
   ],
   "source": [
    "def predict(model, test_generator):\n",
    "    # predict the labels for test data\n",
    "    test_generator.reset()\n",
    "    pred = model.predict(test_generator)\n",
    "\n",
    "    # convert the predictions to binary labels\n",
    "    pred_labels = [1 if p >= 0.5 else 0 for p in pred]\n",
    "    \n",
    "    return pred_labels, pred\n",
    "\n",
    "def accuracy(model, test_generator, model_number):\n",
    "    loss, accuracy = model.evaluate(test_generator)\n",
    "    print('Accuracy on test set for model number', model_number, ': ', accuracy)\n",
    "    \n",
    "    \n",
    "pred_labels1, pred1 = predict(model1, test_generator1)\n",
    "print('Prediction done, Model 1')\n",
    "pred_labels2, pred2 = predict(model2, test_generator2)\n",
    "print('Prediction done, Model 2')\n",
    "\n",
    "accuracy(model1, test_generator1, '1')\n",
    "accuracy(model2, test_generator2, '2')"
   ]
  },
  {
   "cell_type": "code",
   "execution_count": 64,
   "metadata": {},
   "outputs": [],
   "source": [
    "# The probability of each class, rounded\n",
    "pred1 = np.round(pred1, 3)\n",
    "pred2 = np.round(pred2, 3)\n",
    "\n",
    "pred1_df = pd.DataFrame(pred1, columns=['pred1'])\n",
    "pred2_df = pd.DataFrame(pred2, columns=['pred2'])"
   ]
  },
  {
   "cell_type": "code",
   "execution_count": 65,
   "metadata": {},
   "outputs": [
    {
     "data": {
      "text/html": [
       "<div>\n",
       "<style scoped>\n",
       "    .dataframe tbody tr th:only-of-type {\n",
       "        vertical-align: middle;\n",
       "    }\n",
       "\n",
       "    .dataframe tbody tr th {\n",
       "        vertical-align: top;\n",
       "    }\n",
       "\n",
       "    .dataframe thead th {\n",
       "        text-align: right;\n",
       "    }\n",
       "</style>\n",
       "<table border=\"1\" class=\"dataframe\">\n",
       "  <thead>\n",
       "    <tr style=\"text-align: right;\">\n",
       "      <th></th>\n",
       "      <th>true_labels</th>\n",
       "      <th>pred1</th>\n",
       "      <th>pred_labels1_color</th>\n",
       "      <th>pred2</th>\n",
       "      <th>pred_labels2_side</th>\n",
       "    </tr>\n",
       "  </thead>\n",
       "  <tbody>\n",
       "    <tr>\n",
       "      <th>0</th>\n",
       "      <td>0</td>\n",
       "      <td>0.003</td>\n",
       "      <td>0</td>\n",
       "      <td>0.000</td>\n",
       "      <td>0</td>\n",
       "    </tr>\n",
       "    <tr>\n",
       "      <th>1</th>\n",
       "      <td>0</td>\n",
       "      <td>0.046</td>\n",
       "      <td>0</td>\n",
       "      <td>0.002</td>\n",
       "      <td>0</td>\n",
       "    </tr>\n",
       "    <tr>\n",
       "      <th>2</th>\n",
       "      <td>0</td>\n",
       "      <td>0.000</td>\n",
       "      <td>0</td>\n",
       "      <td>0.000</td>\n",
       "      <td>0</td>\n",
       "    </tr>\n",
       "    <tr>\n",
       "      <th>3</th>\n",
       "      <td>0</td>\n",
       "      <td>0.998</td>\n",
       "      <td>1</td>\n",
       "      <td>0.001</td>\n",
       "      <td>0</td>\n",
       "    </tr>\n",
       "    <tr>\n",
       "      <th>4</th>\n",
       "      <td>0</td>\n",
       "      <td>0.009</td>\n",
       "      <td>0</td>\n",
       "      <td>0.998</td>\n",
       "      <td>1</td>\n",
       "    </tr>\n",
       "    <tr>\n",
       "      <th>...</th>\n",
       "      <td>...</td>\n",
       "      <td>...</td>\n",
       "      <td>...</td>\n",
       "      <td>...</td>\n",
       "      <td>...</td>\n",
       "    </tr>\n",
       "    <tr>\n",
       "      <th>194</th>\n",
       "      <td>0</td>\n",
       "      <td>0.005</td>\n",
       "      <td>0</td>\n",
       "      <td>0.000</td>\n",
       "      <td>0</td>\n",
       "    </tr>\n",
       "    <tr>\n",
       "      <th>195</th>\n",
       "      <td>0</td>\n",
       "      <td>0.203</td>\n",
       "      <td>0</td>\n",
       "      <td>0.000</td>\n",
       "      <td>0</td>\n",
       "    </tr>\n",
       "    <tr>\n",
       "      <th>196</th>\n",
       "      <td>0</td>\n",
       "      <td>0.108</td>\n",
       "      <td>0</td>\n",
       "      <td>0.000</td>\n",
       "      <td>0</td>\n",
       "    </tr>\n",
       "    <tr>\n",
       "      <th>197</th>\n",
       "      <td>1</td>\n",
       "      <td>0.012</td>\n",
       "      <td>0</td>\n",
       "      <td>0.000</td>\n",
       "      <td>0</td>\n",
       "    </tr>\n",
       "    <tr>\n",
       "      <th>198</th>\n",
       "      <td>0</td>\n",
       "      <td>0.227</td>\n",
       "      <td>0</td>\n",
       "      <td>0.000</td>\n",
       "      <td>0</td>\n",
       "    </tr>\n",
       "  </tbody>\n",
       "</table>\n",
       "<p>199 rows × 5 columns</p>\n",
       "</div>"
      ],
      "text/plain": [
       "     true_labels  pred1  pred_labels1_color  pred2  pred_labels2_side\n",
       "0              0  0.003                   0  0.000                  0\n",
       "1              0  0.046                   0  0.002                  0\n",
       "2              0  0.000                   0  0.000                  0\n",
       "3              0  0.998                   1  0.001                  0\n",
       "4              0  0.009                   0  0.998                  1\n",
       "..           ...    ...                 ...    ...                ...\n",
       "194            0  0.005                   0  0.000                  0\n",
       "195            0  0.203                   0  0.000                  0\n",
       "196            0  0.108                   0  0.000                  0\n",
       "197            1  0.012                   0  0.000                  0\n",
       "198            0  0.227                   0  0.000                  0\n",
       "\n",
       "[199 rows x 5 columns]"
      ]
     },
     "execution_count": 65,
     "metadata": {},
     "output_type": "execute_result"
    }
   ],
   "source": [
    "true_labels_df = pd.DataFrame({'true_labels': test_generator1.labels})\n",
    "pred_labels_df1 = pd.DataFrame({'pred_labels1_color': pred_labels1})\n",
    "pred_labels_df2 = pd.DataFrame({'pred_labels2_side': pred_labels2})\n",
    "\n",
    "result_df = pd.concat([true_labels_df, pred1_df, pred_labels_df1, pred2_df, pred_labels_df2], axis=1)\n",
    "\n",
    "result_df"
   ]
  },
  {
   "cell_type": "markdown",
   "metadata": {},
   "source": [
    "## Feature Extraction using Local Binary Pattern(LBP)"
   ]
  },
  {
   "cell_type": "code",
   "execution_count": 206,
   "metadata": {},
   "outputs": [],
   "source": [
    "def ext_colored_features(path):\n",
    "    # Load the image\n",
    "    img = io.imread(path, as_gray=True)\n",
    "    lbp_features = feature.local_binary_pattern(img, P=8, R=1.0, method='uniform')\n",
    "    lbp_features = lbp_features.reshape((lbp_features.shape[0], -1))\n",
    "    # Compute histogram of LBP values\n",
    "    hist, _ = np.histogram(lbp_features.ravel(), bins=np.arange(0, 24 + 3), range=(0, 24 + 2))\n",
    "    # Normalize histogram\n",
    "    hist = hist.astype(\"float\")\n",
    "    hist /= (hist.sum() + 1e-7)\n",
    "    return hist\n",
    "def ext_side_features(path):\n",
    "    # Load the image\n",
    "    img = io.imread(path)\n",
    "    lbp_features = feature.local_binary_pattern(img, P=8, R=1.0, method='uniform')\n",
    "    lbp_features = lbp_features.reshape((lbp_features.shape[0], -1))\n",
    "    # Compute histogram of LBP values\n",
    "    hist, _ = np.histogram(lbp_features.ravel(), bins=np.arange(0, 24 + 3), range=(0, 24 + 2))\n",
    "    # Normalize histogram\n",
    "    hist = hist.astype(\"float\")\n",
    "    hist /= (hist.sum() + 1e-7)\n",
    "    return hist"
   ]
  },
  {
   "cell_type": "code",
   "execution_count": 207,
   "metadata": {},
   "outputs": [
    {
     "name": "stdout",
     "output_type": "stream",
     "text": [
      "Accuracy: 0.6345381526104418\n",
      "Accuracy: 0.8072289156626506\n",
      "Accuracy: 0.7831325301204819\n"
     ]
    }
   ],
   "source": [
    "import numpy as np\n",
    "from skimage import io, feature\n",
    "import matplotlib.pyplot as plt\n",
    "from sklearn.model_selection import train_test_split\n",
    "from sklearn.neighbors import KNeighborsClassifier\n",
    "from sklearn.metrics import accuracy_score\n",
    "from sklearn.ensemble import VotingClassifier \n",
    "\n",
    "#divide instances into training and testing \n",
    "X_train, X_test, y_train, y_test = train_test_split(df[[\"color_cam_path\",\"side_cam_path\"]],  df[\"labels\"], random_state=42)\n",
    "features_lbp_color_tr = []\n",
    "features_lbp_side_tr = []\n",
    "features_lbp_color_ts = []\n",
    "features_lbp_side_ts = []\n",
    "for path in X_train[\"color_cam_path\"]:\n",
    "    features_lbp_color_tr.append(ext_colored_features(path))\n",
    "for path in X_train[\"side_cam_path\"]:\n",
    "    features_lbp_side_tr.append(ext_side_features(path))\n",
    "for path in X_test[\"color_cam_path\"]:\n",
    "    features_lbp_color_ts.append(ext_colored_features(path))\n",
    "for path in X_test[\"side_cam_path\"]:\n",
    "    features_lbp_side_ts.append(ext_side_features(path))\n",
    "\n",
    "# Train KNN classifier\n",
    "knn_color = KNeighborsClassifier(n_neighbors=5)\n",
    "knn_color.fit(features_lbp_color_tr, y_train)\n",
    "\n",
    "# Predict labels for test set\n",
    "y_pred = knn_color.predict(features_lbp_color_ts)\n",
    "\n",
    "# Evaluate classifier performance\n",
    "accuracy_color = accuracy_score(y_test, y_pred)\n",
    "print('Accuracy:', accuracy_color)\n",
    "\n",
    "# Train KNN classifier\n",
    "knn_side = KNeighborsClassifier(n_neighbors=5)\n",
    "knn_side.fit(features_lbp_side_tr, y_train)\n",
    "\n",
    "# Predict labels for test set\n",
    "y_pred = knn_side.predict(features_lbp_side_ts)\n",
    "\n",
    "# Evaluate classifier performance\n",
    "accuracy_side = accuracy_score(y_test, y_pred)\n",
    "print('Accuracy:', accuracy_side)\n",
    "\n",
    "fused_features_tr = np.concatenate([features_lbp_color_tr, features_lbp_side_tr], axis=1)\n",
    "fused_features_ts = np.concatenate([features_lbp_color_ts, features_lbp_side_ts], axis=1)\n",
    "# Train KNN classifier\n",
    "knn_fused = KNeighborsClassifier(n_neighbors=5)\n",
    "knn_fused.fit(fused_features_tr, y_train)\n",
    "\n",
    "# Predict labels for test set\n",
    "y_pred = knn_fused.predict(fused_features_ts)\n",
    "\n",
    "# Evaluate classifier performance\n",
    "accuracy_fused = accuracy_score(y_test, y_pred)\n",
    "print('Accuracy:', accuracy_fused)\n",
    "\n",
    "    "
   ]
  },
  {
   "cell_type": "markdown",
   "metadata": {},
   "source": [
    "### Weighted Voting for the two models"
   ]
  },
  {
   "cell_type": "code",
   "execution_count": 76,
   "metadata": {},
   "outputs": [
    {
     "data": {
      "text/html": [
       "<div>\n",
       "<style scoped>\n",
       "    .dataframe tbody tr th:only-of-type {\n",
       "        vertical-align: middle;\n",
       "    }\n",
       "\n",
       "    .dataframe tbody tr th {\n",
       "        vertical-align: top;\n",
       "    }\n",
       "\n",
       "    .dataframe thead th {\n",
       "        text-align: right;\n",
       "    }\n",
       "</style>\n",
       "<table border=\"1\" class=\"dataframe\">\n",
       "  <thead>\n",
       "    <tr style=\"text-align: right;\">\n",
       "      <th></th>\n",
       "      <th>true_labels</th>\n",
       "      <th>pred1</th>\n",
       "      <th>pred_labels1_color</th>\n",
       "      <th>pred2</th>\n",
       "      <th>pred_labels2_side</th>\n",
       "      <th>weighted_vote</th>\n",
       "      <th>weighted_vote_binary</th>\n",
       "    </tr>\n",
       "  </thead>\n",
       "  <tbody>\n",
       "    <tr>\n",
       "      <th>0</th>\n",
       "      <td>0</td>\n",
       "      <td>0.003</td>\n",
       "      <td>0</td>\n",
       "      <td>0.000</td>\n",
       "      <td>0</td>\n",
       "      <td>0.001</td>\n",
       "      <td>0</td>\n",
       "    </tr>\n",
       "    <tr>\n",
       "      <th>1</th>\n",
       "      <td>0</td>\n",
       "      <td>0.046</td>\n",
       "      <td>0</td>\n",
       "      <td>0.002</td>\n",
       "      <td>0</td>\n",
       "      <td>0.020</td>\n",
       "      <td>0</td>\n",
       "    </tr>\n",
       "    <tr>\n",
       "      <th>2</th>\n",
       "      <td>0</td>\n",
       "      <td>0.000</td>\n",
       "      <td>0</td>\n",
       "      <td>0.000</td>\n",
       "      <td>0</td>\n",
       "      <td>0.000</td>\n",
       "      <td>0</td>\n",
       "    </tr>\n",
       "    <tr>\n",
       "      <th>3</th>\n",
       "      <td>0</td>\n",
       "      <td>0.998</td>\n",
       "      <td>1</td>\n",
       "      <td>0.001</td>\n",
       "      <td>0</td>\n",
       "      <td>0.400</td>\n",
       "      <td>0</td>\n",
       "    </tr>\n",
       "    <tr>\n",
       "      <th>4</th>\n",
       "      <td>0</td>\n",
       "      <td>0.009</td>\n",
       "      <td>0</td>\n",
       "      <td>0.998</td>\n",
       "      <td>1</td>\n",
       "      <td>0.602</td>\n",
       "      <td>1</td>\n",
       "    </tr>\n",
       "    <tr>\n",
       "      <th>...</th>\n",
       "      <td>...</td>\n",
       "      <td>...</td>\n",
       "      <td>...</td>\n",
       "      <td>...</td>\n",
       "      <td>...</td>\n",
       "      <td>...</td>\n",
       "      <td>...</td>\n",
       "    </tr>\n",
       "    <tr>\n",
       "      <th>194</th>\n",
       "      <td>0</td>\n",
       "      <td>0.005</td>\n",
       "      <td>0</td>\n",
       "      <td>0.000</td>\n",
       "      <td>0</td>\n",
       "      <td>0.002</td>\n",
       "      <td>0</td>\n",
       "    </tr>\n",
       "    <tr>\n",
       "      <th>195</th>\n",
       "      <td>0</td>\n",
       "      <td>0.203</td>\n",
       "      <td>0</td>\n",
       "      <td>0.000</td>\n",
       "      <td>0</td>\n",
       "      <td>0.081</td>\n",
       "      <td>0</td>\n",
       "    </tr>\n",
       "    <tr>\n",
       "      <th>196</th>\n",
       "      <td>0</td>\n",
       "      <td>0.108</td>\n",
       "      <td>0</td>\n",
       "      <td>0.000</td>\n",
       "      <td>0</td>\n",
       "      <td>0.043</td>\n",
       "      <td>0</td>\n",
       "    </tr>\n",
       "    <tr>\n",
       "      <th>197</th>\n",
       "      <td>1</td>\n",
       "      <td>0.012</td>\n",
       "      <td>0</td>\n",
       "      <td>0.000</td>\n",
       "      <td>0</td>\n",
       "      <td>0.005</td>\n",
       "      <td>0</td>\n",
       "    </tr>\n",
       "    <tr>\n",
       "      <th>198</th>\n",
       "      <td>0</td>\n",
       "      <td>0.227</td>\n",
       "      <td>0</td>\n",
       "      <td>0.000</td>\n",
       "      <td>0</td>\n",
       "      <td>0.091</td>\n",
       "      <td>0</td>\n",
       "    </tr>\n",
       "  </tbody>\n",
       "</table>\n",
       "<p>199 rows × 7 columns</p>\n",
       "</div>"
      ],
      "text/plain": [
       "     true_labels  pred1  pred_labels1_color  pred2  pred_labels2_side  \\\n",
       "0              0  0.003                   0  0.000                  0   \n",
       "1              0  0.046                   0  0.002                  0   \n",
       "2              0  0.000                   0  0.000                  0   \n",
       "3              0  0.998                   1  0.001                  0   \n",
       "4              0  0.009                   0  0.998                  1   \n",
       "..           ...    ...                 ...    ...                ...   \n",
       "194            0  0.005                   0  0.000                  0   \n",
       "195            0  0.203                   0  0.000                  0   \n",
       "196            0  0.108                   0  0.000                  0   \n",
       "197            1  0.012                   0  0.000                  0   \n",
       "198            0  0.227                   0  0.000                  0   \n",
       "\n",
       "     weighted_vote  weighted_vote_binary  \n",
       "0            0.001                     0  \n",
       "1            0.020                     0  \n",
       "2            0.000                     0  \n",
       "3            0.400                     0  \n",
       "4            0.602                     1  \n",
       "..             ...                   ...  \n",
       "194          0.002                     0  \n",
       "195          0.081                     0  \n",
       "196          0.043                     0  \n",
       "197          0.005                     0  \n",
       "198          0.091                     0  \n",
       "\n",
       "[199 rows x 7 columns]"
      ]
     },
     "execution_count": 76,
     "metadata": {},
     "output_type": "execute_result"
    }
   ],
   "source": [
    "def weighted_vote(row):\n",
    "    # higher weight for the model with higher accuracy\n",
    "    w1 = 0.4\n",
    "    w2 = 0.6\n",
    "\n",
    "    vote = w1 * row['pred1'] + w2 * row['pred2']\n",
    "\n",
    "    return round(vote, 3)\n",
    "\n",
    "result_df['weighted_vote'] = result_df.apply(weighted_vote, axis=1)\n",
    "result_df['weighted_vote_binary'] = result_df['weighted_vote'].apply(lambda x: 1 if x >= 0.5 else 0)\n",
    "result_df"
   ]
  },
  {
   "cell_type": "code",
   "execution_count": 77,
   "metadata": {},
   "outputs": [
    {
     "data": {
      "text/plain": [
       "0.6532663316582915"
      ]
     },
     "execution_count": 77,
     "metadata": {},
     "output_type": "execute_result"
    }
   ],
   "source": [
    "# Calculate the accuracy given scikit\n",
    "acc = accuracy_score(result_df['true_labels'], result_df['weighted_vote_binary'])\n",
    "\n",
    "acc"
   ]
  },
  {
   "cell_type": "markdown",
   "metadata": {},
   "source": [
    "# Using PyTorch"
   ]
  },
  {
   "cell_type": "markdown",
   "metadata": {},
   "source": [
    "#### Model 1: Color cam"
   ]
  },
  {
   "cell_type": "code",
   "execution_count": 191,
   "metadata": {},
   "outputs": [],
   "source": [
    "import pandas as pd\n",
    "import numpy as np\n",
    "import torch\n",
    "import torchvision\n",
    "import torchvision.transforms as transforms\n",
    "from torch.utils.data import Dataset, DataLoader\n",
    "\n",
    "# Define a transformation to apply to the images\n",
    "transform = transforms.Compose([\n",
    "    transforms.Resize((224, 224)),\n",
    "    transforms.ToTensor(),\n",
    "    transforms.Normalize((0.5,), (0.5,))\n",
    "])\n",
    "\n",
    "# Split the dataframe into training and testing sets\n",
    "train_df = df.sample(frac=0.8, random_state=123)\n",
    "test_df = df.drop(train_df.index)\n",
    "\n",
    "# Define custom dataset classes to load the images and their labels\n",
    "class CustomDataset(Dataset):\n",
    "    def __init__(self, df, transform=None):\n",
    "        self.df = df\n",
    "        self.transform = transform\n",
    "        \n",
    "    def __len__(self):\n",
    "        return len(self.df)\n",
    "    \n",
    "    def __getitem__(self, idx):\n",
    "        img_path = self.df.iloc[idx]['color_cam_path']\n",
    "        label = self.df.iloc[idx]['labels']\n",
    "        image = Image.open(img_path)\n",
    "        if self.transform:\n",
    "            image = self.transform(image)\n",
    "        return image, label\n",
    "\n",
    "# Create custom dataset objects for the training and testing sets\n",
    "train_dataset = CustomDataset(train_df, transform=transform)\n",
    "test_dataset = CustomDataset(test_df, transform=transform)\n",
    "\n",
    "# Define data loaders for the training and testing sets\n",
    "trainloader = DataLoader(train_dataset, batch_size=32, shuffle=True)\n",
    "testloader = DataLoader(test_dataset, batch_size=32, shuffle=False)"
   ]
  },
  {
   "cell_type": "code",
   "execution_count": 192,
   "metadata": {},
   "outputs": [],
   "source": [
    "import torch.nn as nn\n",
    "import torch.nn.functional as F\n",
    "\n",
    "class Net(nn.Module):\n",
    "    def __init__(self):\n",
    "        super(Net, self).__init__()\n",
    "        self.conv1 = nn.Conv2d(3, 8, kernel_size=3, stride=1, padding=1)\n",
    "        self.pool = nn.MaxPool2d(kernel_size=2, stride=2)\n",
    "        self.conv2 = nn.Conv2d(8, 16, kernel_size=3, stride=1, padding=1)\n",
    "        self.fc1 = nn.Linear(16 * 56 * 56, 64)\n",
    "        self.fc2 = nn.Linear(64, 2)\n",
    "\n",
    "    def forward(self, x):\n",
    "        x = self.pool(F.relu(self.conv1(x)))\n",
    "        x = self.pool(F.relu(self.conv2(x)))\n",
    "        x = x.view(-1, 16 * 56 * 56)\n",
    "        x = F.relu(self.fc1(x))\n",
    "        x = self.fc2(x)\n",
    "        return x"
   ]
  },
  {
   "cell_type": "code",
   "execution_count": 193,
   "metadata": {},
   "outputs": [
    {
     "name": "stdout",
     "output_type": "stream",
     "text": [
      "Epoch: 1, Training Loss: 0.695, Validation Loss: 0.659, Validation Accuracy: 63.32%\n",
      "Epoch: 2, Training Loss: 0.570, Validation Loss: 0.620, Validation Accuracy: 63.32%\n",
      "Epoch: 3, Training Loss: 0.510, Validation Loss: 0.571, Validation Accuracy: 63.32%\n",
      "Epoch: 4, Training Loss: 0.388, Validation Loss: 0.532, Validation Accuracy: 69.85%\n",
      "Epoch: 5, Training Loss: 0.314, Validation Loss: 0.416, Validation Accuracy: 88.94%\n",
      "Epoch: 6, Training Loss: 0.290, Validation Loss: 0.417, Validation Accuracy: 89.95%\n",
      "Epoch: 7, Training Loss: 0.289, Validation Loss: 0.422, Validation Accuracy: 88.94%\n",
      "Epoch: 8, Training Loss: 0.255, Validation Loss: 0.419, Validation Accuracy: 87.94%\n",
      "Epoch 00008: reducing learning rate of group 0 to 1.0000e-04.\n",
      "Epoch: 9, Training Loss: 0.237, Validation Loss: 0.446, Validation Accuracy: 88.94%\n",
      "Test Accuracy: 88.94%\n",
      "Wall time: 14min 34s\n"
     ]
    }
   ],
   "source": [
    "%%time\n",
    "import torch.optim as optim\n",
    "\n",
    "net = Net()\n",
    "criterion = nn.CrossEntropyLoss()\n",
    "optimizer = optim.Adam(net.parameters(), lr=0.001)\n",
    "\n",
    "scheduler = torch.optim.lr_scheduler.ReduceLROnPlateau(optimizer, mode='min', patience=2, factor=0.1, verbose=True)\n",
    "\n",
    "for epoch in range(9):\n",
    "    running_loss = 0.0\n",
    "    for i, data in enumerate(trainloader, 0):\n",
    "        inputs, labels = data\n",
    "        optimizer.zero_grad()\n",
    "        outputs = net(inputs)\n",
    "        loss = criterion(outputs, labels)\n",
    "        loss.backward()\n",
    "        optimizer.step()\n",
    "\n",
    "        running_loss += loss.item()\n",
    "        if i % 200 == 199:    # print every 200 mini-batches\n",
    "            print('[%d, %5d] loss: %.3f' %\n",
    "                  (epoch + 1, i + 1, running_loss / 200))\n",
    "            running_loss = 0.0\n",
    "\n",
    "    # Evaluate model on validation set\n",
    "    val_loss = 0.0\n",
    "    val_total = 0\n",
    "    val_correct = 0\n",
    "    net.eval()\n",
    "    with torch.no_grad():\n",
    "        for data in testloader:\n",
    "            images, labels = data\n",
    "            outputs = net(images)\n",
    "            loss = criterion(outputs, labels)\n",
    "            val_loss += loss.item()\n",
    "            _, predicted = torch.max(outputs.data, 1)\n",
    "            val_total += labels.size(0)\n",
    "            val_correct += (predicted == labels).sum().item()\n",
    "\n",
    "    # Print validation metrics\n",
    "    val_accuracy = 100 * val_correct / val_total\n",
    "    print('Epoch: %d, Training Loss: %.3f, Validation Loss: %.3f, Validation Accuracy: %.2f%%' %\n",
    "          (epoch + 1, running_loss / len(trainloader), val_loss / len(testloader), val_accuracy))\n",
    "\n",
    "    # Adjust learning rate based on validation loss\n",
    "    scheduler.step(val_loss)\n",
    "\n",
    "    # Save model checkpoint\n",
    "    if val_loss < 10:\n",
    "        best_val_loss = val_loss\n",
    "        torch.save(net.state_dict(), 'model1_color_pytorch.pth')\n",
    "    \n",
    "    net.train()\n",
    "\n",
    "# Load best model checkpoint and evaluate on test set\n",
    "net.load_state_dict(torch.load('model1_color_pytorch.pth'))\n",
    "net.eval()\n",
    "\n",
    "test_correct = 0\n",
    "test_total = 0\n",
    "with torch.no_grad():\n",
    "    for data in testloader:\n",
    "        images, labels = data\n",
    "        outputs = net(images)\n",
    "        _, predicted = torch.max(outputs.data, 1)\n",
    "        test_total += labels.size(0)\n",
    "        test_correct += (predicted == labels).sum().item()\n",
    "\n",
    "print('Test Accuracy: %.2f%%' % (100 * test_correct / test_total))"
   ]
  },
  {
   "cell_type": "code",
   "execution_count": 206,
   "metadata": {},
   "outputs": [
    {
     "data": {
      "text/html": [
       "<div>\n",
       "<style scoped>\n",
       "    .dataframe tbody tr th:only-of-type {\n",
       "        vertical-align: middle;\n",
       "    }\n",
       "\n",
       "    .dataframe tbody tr th {\n",
       "        vertical-align: top;\n",
       "    }\n",
       "\n",
       "    .dataframe thead th {\n",
       "        text-align: right;\n",
       "    }\n",
       "</style>\n",
       "<table border=\"1\" class=\"dataframe\">\n",
       "  <thead>\n",
       "    <tr style=\"text-align: right;\">\n",
       "      <th></th>\n",
       "      <th>true_label</th>\n",
       "      <th>predicted_label</th>\n",
       "      <th>class_prob</th>\n",
       "    </tr>\n",
       "  </thead>\n",
       "  <tbody>\n",
       "    <tr>\n",
       "      <th>0</th>\n",
       "      <td>0</td>\n",
       "      <td>0</td>\n",
       "      <td>0.016023</td>\n",
       "    </tr>\n",
       "    <tr>\n",
       "      <th>1</th>\n",
       "      <td>1</td>\n",
       "      <td>1</td>\n",
       "      <td>0.568752</td>\n",
       "    </tr>\n",
       "    <tr>\n",
       "      <th>2</th>\n",
       "      <td>0</td>\n",
       "      <td>0</td>\n",
       "      <td>0.003446</td>\n",
       "    </tr>\n",
       "    <tr>\n",
       "      <th>3</th>\n",
       "      <td>1</td>\n",
       "      <td>1</td>\n",
       "      <td>0.568752</td>\n",
       "    </tr>\n",
       "    <tr>\n",
       "      <th>4</th>\n",
       "      <td>1</td>\n",
       "      <td>1</td>\n",
       "      <td>0.562920</td>\n",
       "    </tr>\n",
       "    <tr>\n",
       "      <th>...</th>\n",
       "      <td>...</td>\n",
       "      <td>...</td>\n",
       "      <td>...</td>\n",
       "    </tr>\n",
       "    <tr>\n",
       "      <th>194</th>\n",
       "      <td>0</td>\n",
       "      <td>0</td>\n",
       "      <td>0.033750</td>\n",
       "    </tr>\n",
       "    <tr>\n",
       "      <th>195</th>\n",
       "      <td>1</td>\n",
       "      <td>1</td>\n",
       "      <td>0.568752</td>\n",
       "    </tr>\n",
       "    <tr>\n",
       "      <th>196</th>\n",
       "      <td>1</td>\n",
       "      <td>0</td>\n",
       "      <td>0.057280</td>\n",
       "    </tr>\n",
       "    <tr>\n",
       "      <th>197</th>\n",
       "      <td>0</td>\n",
       "      <td>0</td>\n",
       "      <td>0.003989</td>\n",
       "    </tr>\n",
       "    <tr>\n",
       "      <th>198</th>\n",
       "      <td>1</td>\n",
       "      <td>0</td>\n",
       "      <td>0.376987</td>\n",
       "    </tr>\n",
       "  </tbody>\n",
       "</table>\n",
       "<p>199 rows × 3 columns</p>\n",
       "</div>"
      ],
      "text/plain": [
       "     true_label  predicted_label  class_prob\n",
       "0             0                0    0.016023\n",
       "1             1                1    0.568752\n",
       "2             0                0    0.003446\n",
       "3             1                1    0.568752\n",
       "4             1                1    0.562920\n",
       "..          ...              ...         ...\n",
       "194           0                0    0.033750\n",
       "195           1                1    0.568752\n",
       "196           1                0    0.057280\n",
       "197           0                0    0.003989\n",
       "198           1                0    0.376987\n",
       "\n",
       "[199 rows x 3 columns]"
      ]
     },
     "execution_count": 206,
     "metadata": {},
     "output_type": "execute_result"
    }
   ],
   "source": [
    "# Define function to predict label and class probability\n",
    "def predict(image):\n",
    "    with torch.no_grad():\n",
    "        output = net(image.unsqueeze(0))\n",
    "        prob = F.softmax(output, dim=1)\n",
    "        label = torch.argmax(prob, dim=1).item()\n",
    "        prob = prob[0][1].item()\n",
    "    return label, prob\n",
    "\n",
    "# Iterate through test set and predict label and class probability for each image\n",
    "data = []\n",
    "net.eval()\n",
    "with torch.no_grad():\n",
    "    for inputs, labels in testloader:\n",
    "        for i in range(len(inputs)):\n",
    "            true_label = labels[i].item()\n",
    "            predicted_label, class_prob = predict(inputs[i])\n",
    "            data.append({\n",
    "                'true_label': true_label,\n",
    "                'predicted_label': predicted_label,\n",
    "                'class_prob': class_prob\n",
    "            })\n",
    "\n",
    "# Convert list of dictionaries to dataframe\n",
    "results_df1 = pd.DataFrame(data)\n",
    "\n",
    "# Convert predicted label to binary value based on class probability\n",
    "results_df1['predicted_label'] = np.where(results1['class_prob'] > 0.5, 1, 0)\n",
    "results_df1"
   ]
  },
  {
   "cell_type": "markdown",
   "metadata": {},
   "source": [
    "#### Model 2: Side cam"
   ]
  },
  {
   "cell_type": "code",
   "execution_count": 123,
   "metadata": {},
   "outputs": [],
   "source": [
    "class Normalize(object):\n",
    "    def __init__(self, mean, std):\n",
    "        self.mean = mean\n",
    "        self.std = std\n",
    "\n",
    "    def __call__(self, tensor):\n",
    "        if tensor.size(0) == 1:\n",
    "            # grayscale image\n",
    "            mean = torch.tensor(self.mean)[[0], [0], [0]]\n",
    "            std = torch.tensor(self.std)[[0], [0], [0]]\n",
    "        else:\n",
    "            # color image\n",
    "            mean = self.mean\n",
    "            std = self.std\n",
    "\n",
    "        return F.normalize(tensor, mean=mean, std=std)"
   ]
  },
  {
   "cell_type": "code",
   "execution_count": 167,
   "metadata": {},
   "outputs": [],
   "source": [
    "import pandas as pd\n",
    "import numpy as np\n",
    "import torch\n",
    "import torchvision\n",
    "import torchvision.transforms as transforms\n",
    "from torch.utils.data import Dataset, DataLoader\n",
    "from torchvision.transforms import Compose, Resize, CenterCrop, ToTensor, Normalize, Grayscale\n",
    "from PIL import Image\n",
    "\n",
    "# Define a transformation to apply to the images\n",
    "Normalize_transform = transforms.Normalize(mean=[0.485, 0.456, 0.406], std=[0.229, 0.224, 0.225])\n",
    "transform = transforms.Compose([\n",
    "    transforms.CenterCrop(224),\n",
    "    transforms.Resize((224, 224)),\n",
    "    transforms.Grayscale(num_output_channels=3), # convert to 3 channels\n",
    "    transforms.ToTensor(),\n",
    "    Normalize_transform\n",
    "])\n",
    "# Split the dataframe into training and testing sets\n",
    "train_df = df.sample(frac=0.8, random_state=123)\n",
    "test_df = df.drop(train_df.index)\n",
    "\n",
    "class CustomDataset(Dataset):\n",
    "    def __init__(self, df, transform=None):\n",
    "        self.df = df\n",
    "        self.transform = transform\n",
    "        \n",
    "    def __len__(self):\n",
    "        return len(self.df)\n",
    "    \n",
    "    def __getitem__(self, idx):\n",
    "        img_path = self.df.iloc[idx]['side_cam_path']\n",
    "        label = self.df.iloc[idx]['labels']\n",
    "        image = Image.open(img_path)\n",
    "        if image.mode != 'RGB':\n",
    "            # convert grayscale to RGB\n",
    "            image = Image.merge('RGB', [image]*3)\n",
    "        if self.transform:\n",
    "            image = self.transform(image)\n",
    "        label = torch.tensor(label, dtype=torch.long)\n",
    "        return image, label\n",
    "\n",
    "# Create custom dataset objects for the training and testing sets\n",
    "train_dataset = CustomDataset(train_df, transform=transform)\n",
    "test_dataset = CustomDataset(test_df, transform=transform)\n",
    "\n",
    "# Define data loaders for the training and testing sets\n",
    "trainloader = DataLoader(train_dataset, batch_size=32, shuffle=True)\n",
    "testloader = DataLoader(test_dataset, batch_size=32, shuffle=False)"
   ]
  },
  {
   "cell_type": "code",
   "execution_count": 168,
   "metadata": {},
   "outputs": [],
   "source": [
    "import torch\n",
    "import torch.nn as nn\n",
    "import torch.nn.functional as F\n",
    "import torchvision.transforms as transforms\n",
    "\n",
    "class Net(nn.Module):\n",
    "\n",
    "    def __init__(self):\n",
    "        super(Net, self).__init__()\n",
    "        self.conv1 = nn.Conv2d(3, 6, 5)\n",
    "        self.pool = nn.MaxPool2d(2, 2)\n",
    "        # adjust the kernel sizes of the convolutional layers to match the new input size\n",
    "        self.conv2 = nn.Conv2d(6, 16, 5)\n",
    "        self.fc1 = nn.Linear(16 * 53 * 53, 120)  # adjust the input size of the first fully connected layer\n",
    "        self.fc2 = nn.Linear(120, 84)\n",
    "        self.fc3 = nn.Linear(84, 10)\n",
    "\n",
    "    def forward(self, x):\n",
    "        x = self.pool(F.relu(self.conv1(x)))\n",
    "        x = self.pool(F.relu(self.conv2(x)))\n",
    "        # adjust the view statement to match the output size of the second convolutional layer\n",
    "        x = x.view(-1, 16 * 53 * 53)\n",
    "        x = F.relu(self.fc1(x))\n",
    "        x = F.relu(self.fc2(x))\n",
    "        x = self.fc3(x)\n",
    "        return x"
   ]
  },
  {
   "cell_type": "code",
   "execution_count": 170,
   "metadata": {
    "scrolled": false
   },
   "outputs": [
    {
     "name": "stdout",
     "output_type": "stream",
     "text": [
      "Epoch: 1, Training Loss: 0.000, Validation Loss: 0.577, Validation Accuracy: 78.39%\n",
      "Epoch: 2, Training Loss: 0.000, Validation Loss: 0.539, Validation Accuracy: 77.89%\n",
      "Epoch: 3, Training Loss: 0.000, Validation Loss: 0.611, Validation Accuracy: 75.88%\n",
      "Epoch: 4, Training Loss: 0.000, Validation Loss: 0.600, Validation Accuracy: 76.88%\n",
      "Epoch: 5, Training Loss: 0.000, Validation Loss: 0.671, Validation Accuracy: 79.40%\n",
      "Epoch 00005: reducing learning rate of group 0 to 1.0000e-04.\n",
      "Epoch: 6, Training Loss: 0.000, Validation Loss: 0.644, Validation Accuracy: 84.42%\n",
      "Epoch: 7, Training Loss: 0.000, Validation Loss: 0.655, Validation Accuracy: 82.41%\n",
      "Test Accuracy: 82.41%\n",
      "Wall time: 5min 19s\n"
     ]
    }
   ],
   "source": [
    "%%time\n",
    "import torch.optim as optim\n",
    "\n",
    "net = Net()\n",
    "criterion = nn.CrossEntropyLoss()\n",
    "optimizer = optim.Adam(net.parameters(), lr=0.001)\n",
    "\n",
    "scheduler = torch.optim.lr_scheduler.ReduceLROnPlateau(optimizer, mode='min', patience=2, factor=0.1, verbose=True)\n",
    "\n",
    "for epoch in range(7):\n",
    "    running_loss = 0.0\n",
    "    for i, data in enumerate(trainloader, 0):\n",
    "        inputs, labels = data\n",
    "        optimizer.zero_grad()\n",
    "        outputs = net(inputs)\n",
    "        loss = criterion(outputs, labels)\n",
    "        loss.backward()\n",
    "        optimizer.step()\n",
    "\n",
    "        running_loss += loss.item()\n",
    "        if i % 200 == 199:    # print every 200 mini-batches\n",
    "            print('[%d, %5d] loss: %.3f' %\n",
    "                  (epoch + 1, i + 1, running_loss / 200))\n",
    "            running_loss = 0.0\n",
    "\n",
    "    # Reset running_loss to 0 at the end of each epoch\n",
    "    running_loss = 0.0\n",
    "    \n",
    "    # Evaluate model on validation set\n",
    "    val_loss = 0.0\n",
    "    val_total = 0\n",
    "    val_correct = 0\n",
    "    net.eval()\n",
    "    with torch.no_grad():\n",
    "        for data in testloader:\n",
    "            images, labels = data\n",
    "            outputs = net(images)\n",
    "            loss = criterion(outputs, labels)\n",
    "            val_loss += loss.item()\n",
    "            _, predicted = torch.max(outputs.data, 1)\n",
    "            val_total += labels.size(0)\n",
    "            val_correct += (predicted == labels).sum().item()\n",
    "\n",
    "    # Print validation metrics\n",
    "    val_accuracy = 100 * val_correct / val_total\n",
    "    print('Epoch: %d, Training Loss: %.3f, Validation Loss: %.3f, Validation Accuracy: %.2f%%' %\n",
    "          (epoch + 1, running_loss / len(trainloader), val_loss / len(testloader), val_accuracy))\n",
    "\n",
    "    # Adjust learning rate based on validation loss\n",
    "    scheduler.step(val_loss)\n",
    "\n",
    "    # Save model checkpoint\n",
    "    if val_loss < 10:\n",
    "        best_val_loss = val_loss\n",
    "        torch.save(net.state_dict(), 'model2_side_pytorch.pth')\n",
    "    \n",
    "    net.train()\n",
    "\n",
    "# Load best model checkpoint and evaluate on test set\n",
    "net.load_state_dict(torch.load('model2_side_pytorch.pth'))\n",
    "net.eval()\n",
    "\n",
    "test_correct = 0\n",
    "test_total = 0\n",
    "with torch.no_grad():\n",
    "    for data in testloader:\n",
    "        images, labels = data\n",
    "        outputs = net(images)\n",
    "        _, predicted = torch.max(outputs.data, 1)\n",
    "        test_total += labels.size(0)\n",
    "        test_correct += (predicted == labels).sum().item()\n",
    "\n",
    "print('Test Accuracy: %.2f%%' % (100 * test_correct / test_total))"
   ]
  },
  {
   "cell_type": "code",
   "execution_count": 190,
   "metadata": {},
   "outputs": [
    {
     "data": {
      "text/html": [
       "<div>\n",
       "<style scoped>\n",
       "    .dataframe tbody tr th:only-of-type {\n",
       "        vertical-align: middle;\n",
       "    }\n",
       "\n",
       "    .dataframe tbody tr th {\n",
       "        vertical-align: top;\n",
       "    }\n",
       "\n",
       "    .dataframe thead th {\n",
       "        text-align: right;\n",
       "    }\n",
       "</style>\n",
       "<table border=\"1\" class=\"dataframe\">\n",
       "  <thead>\n",
       "    <tr style=\"text-align: right;\">\n",
       "      <th></th>\n",
       "      <th>True Label</th>\n",
       "      <th>Predicted Label</th>\n",
       "      <th>Class Probabilities</th>\n",
       "    </tr>\n",
       "  </thead>\n",
       "  <tbody>\n",
       "    <tr>\n",
       "      <th>0</th>\n",
       "      <td>0</td>\n",
       "      <td>0</td>\n",
       "      <td>0.000367</td>\n",
       "    </tr>\n",
       "    <tr>\n",
       "      <th>1</th>\n",
       "      <td>1</td>\n",
       "      <td>1</td>\n",
       "      <td>0.894325</td>\n",
       "    </tr>\n",
       "    <tr>\n",
       "      <th>2</th>\n",
       "      <td>0</td>\n",
       "      <td>0</td>\n",
       "      <td>0.009980</td>\n",
       "    </tr>\n",
       "    <tr>\n",
       "      <th>3</th>\n",
       "      <td>1</td>\n",
       "      <td>1</td>\n",
       "      <td>0.895022</td>\n",
       "    </tr>\n",
       "    <tr>\n",
       "      <th>4</th>\n",
       "      <td>1</td>\n",
       "      <td>0</td>\n",
       "      <td>0.018549</td>\n",
       "    </tr>\n",
       "    <tr>\n",
       "      <th>...</th>\n",
       "      <td>...</td>\n",
       "      <td>...</td>\n",
       "      <td>...</td>\n",
       "    </tr>\n",
       "    <tr>\n",
       "      <th>194</th>\n",
       "      <td>0</td>\n",
       "      <td>0</td>\n",
       "      <td>0.034388</td>\n",
       "    </tr>\n",
       "    <tr>\n",
       "      <th>195</th>\n",
       "      <td>1</td>\n",
       "      <td>1</td>\n",
       "      <td>0.890232</td>\n",
       "    </tr>\n",
       "    <tr>\n",
       "      <th>196</th>\n",
       "      <td>1</td>\n",
       "      <td>0</td>\n",
       "      <td>0.015134</td>\n",
       "    </tr>\n",
       "    <tr>\n",
       "      <th>197</th>\n",
       "      <td>0</td>\n",
       "      <td>0</td>\n",
       "      <td>0.400080</td>\n",
       "    </tr>\n",
       "    <tr>\n",
       "      <th>198</th>\n",
       "      <td>1</td>\n",
       "      <td>0</td>\n",
       "      <td>0.011036</td>\n",
       "    </tr>\n",
       "  </tbody>\n",
       "</table>\n",
       "<p>199 rows × 3 columns</p>\n",
       "</div>"
      ],
      "text/plain": [
       "     True Label  Predicted Label  Class Probabilities\n",
       "0             0                0             0.000367\n",
       "1             1                1             0.894325\n",
       "2             0                0             0.009980\n",
       "3             1                1             0.895022\n",
       "4             1                0             0.018549\n",
       "..          ...              ...                  ...\n",
       "194           0                0             0.034388\n",
       "195           1                1             0.890232\n",
       "196           1                0             0.015134\n",
       "197           0                0             0.400080\n",
       "198           1                0             0.011036\n",
       "\n",
       "[199 rows x 3 columns]"
      ]
     },
     "execution_count": 190,
     "metadata": {},
     "output_type": "execute_result"
    }
   ],
   "source": [
    "# Create an empty list to hold the results\n",
    "results = []\n",
    "\n",
    "# Set the model to evaluation mode\n",
    "net.eval()\n",
    "\n",
    "# Turn off gradient calculations to save memory and computation\n",
    "with torch.no_grad():\n",
    "    for data in testloader:\n",
    "        images, labels = data\n",
    "        outputs = net(images)\n",
    "\n",
    "        # Get the predicted class labels and class probabilities\n",
    "        _, predicted = torch.max(outputs.data, 1)\n",
    "        probs = torch.nn.functional.softmax(outputs, dim=1)\n",
    "\n",
    "        # Convert PyTorch tensors to numpy arrays\n",
    "        true_labels = labels.numpy()\n",
    "        predicted_labels = predicted.numpy()\n",
    "        class_probs = probs.numpy()[:, 1]  # Only include probabilities for class 1\n",
    "\n",
    "        # Append the results to the list\n",
    "        for i in range(len(true_labels)):\n",
    "            results.append([true_labels[i], predicted_labels[i], class_probs[i]])\n",
    "\n",
    "# Convert the list of results to a pandas DataFrame\n",
    "results_df2 = pd.DataFrame(results, columns=['True Label', 'Predicted Label', 'Class Probabilities'])\n",
    "results_df2"
   ]
  },
  {
   "cell_type": "markdown",
   "metadata": {},
   "source": [
    "#### Weighted Voting"
   ]
  },
  {
   "cell_type": "code",
   "execution_count": 211,
   "metadata": {},
   "outputs": [
    {
     "data": {
      "text/html": [
       "<div>\n",
       "<style scoped>\n",
       "    .dataframe tbody tr th:only-of-type {\n",
       "        vertical-align: middle;\n",
       "    }\n",
       "\n",
       "    .dataframe tbody tr th {\n",
       "        vertical-align: top;\n",
       "    }\n",
       "\n",
       "    .dataframe thead th {\n",
       "        text-align: right;\n",
       "    }\n",
       "</style>\n",
       "<table border=\"1\" class=\"dataframe\">\n",
       "  <thead>\n",
       "    <tr style=\"text-align: right;\">\n",
       "      <th></th>\n",
       "      <th>class_probs_model1_color</th>\n",
       "      <th>pred_model1_color</th>\n",
       "      <th>class_probs_model2_side</th>\n",
       "      <th>pred_model2_side</th>\n",
       "      <th>true_labels</th>\n",
       "    </tr>\n",
       "  </thead>\n",
       "  <tbody>\n",
       "    <tr>\n",
       "      <th>0</th>\n",
       "      <td>0.016023</td>\n",
       "      <td>0</td>\n",
       "      <td>0.000367</td>\n",
       "      <td>0</td>\n",
       "      <td>0</td>\n",
       "    </tr>\n",
       "    <tr>\n",
       "      <th>1</th>\n",
       "      <td>0.568752</td>\n",
       "      <td>1</td>\n",
       "      <td>0.894325</td>\n",
       "      <td>1</td>\n",
       "      <td>1</td>\n",
       "    </tr>\n",
       "    <tr>\n",
       "      <th>2</th>\n",
       "      <td>0.003446</td>\n",
       "      <td>0</td>\n",
       "      <td>0.009980</td>\n",
       "      <td>0</td>\n",
       "      <td>0</td>\n",
       "    </tr>\n",
       "    <tr>\n",
       "      <th>3</th>\n",
       "      <td>0.568752</td>\n",
       "      <td>1</td>\n",
       "      <td>0.895022</td>\n",
       "      <td>1</td>\n",
       "      <td>1</td>\n",
       "    </tr>\n",
       "    <tr>\n",
       "      <th>4</th>\n",
       "      <td>0.562920</td>\n",
       "      <td>1</td>\n",
       "      <td>0.018549</td>\n",
       "      <td>0</td>\n",
       "      <td>1</td>\n",
       "    </tr>\n",
       "    <tr>\n",
       "      <th>...</th>\n",
       "      <td>...</td>\n",
       "      <td>...</td>\n",
       "      <td>...</td>\n",
       "      <td>...</td>\n",
       "      <td>...</td>\n",
       "    </tr>\n",
       "    <tr>\n",
       "      <th>194</th>\n",
       "      <td>0.033750</td>\n",
       "      <td>0</td>\n",
       "      <td>0.034388</td>\n",
       "      <td>0</td>\n",
       "      <td>0</td>\n",
       "    </tr>\n",
       "    <tr>\n",
       "      <th>195</th>\n",
       "      <td>0.568752</td>\n",
       "      <td>1</td>\n",
       "      <td>0.890232</td>\n",
       "      <td>1</td>\n",
       "      <td>1</td>\n",
       "    </tr>\n",
       "    <tr>\n",
       "      <th>196</th>\n",
       "      <td>0.057280</td>\n",
       "      <td>0</td>\n",
       "      <td>0.015134</td>\n",
       "      <td>0</td>\n",
       "      <td>1</td>\n",
       "    </tr>\n",
       "    <tr>\n",
       "      <th>197</th>\n",
       "      <td>0.003989</td>\n",
       "      <td>0</td>\n",
       "      <td>0.400080</td>\n",
       "      <td>0</td>\n",
       "      <td>0</td>\n",
       "    </tr>\n",
       "    <tr>\n",
       "      <th>198</th>\n",
       "      <td>0.376987</td>\n",
       "      <td>0</td>\n",
       "      <td>0.011036</td>\n",
       "      <td>0</td>\n",
       "      <td>1</td>\n",
       "    </tr>\n",
       "  </tbody>\n",
       "</table>\n",
       "<p>199 rows × 5 columns</p>\n",
       "</div>"
      ],
      "text/plain": [
       "     class_probs_model1_color  pred_model1_color  class_probs_model2_side  \\\n",
       "0                    0.016023                  0                 0.000367   \n",
       "1                    0.568752                  1                 0.894325   \n",
       "2                    0.003446                  0                 0.009980   \n",
       "3                    0.568752                  1                 0.895022   \n",
       "4                    0.562920                  1                 0.018549   \n",
       "..                        ...                ...                      ...   \n",
       "194                  0.033750                  0                 0.034388   \n",
       "195                  0.568752                  1                 0.890232   \n",
       "196                  0.057280                  0                 0.015134   \n",
       "197                  0.003989                  0                 0.400080   \n",
       "198                  0.376987                  0                 0.011036   \n",
       "\n",
       "     pred_model2_side  true_labels  \n",
       "0                   0            0  \n",
       "1                   1            1  \n",
       "2                   0            0  \n",
       "3                   1            1  \n",
       "4                   0            1  \n",
       "..                ...          ...  \n",
       "194                 0            0  \n",
       "195                 1            1  \n",
       "196                 0            1  \n",
       "197                 0            0  \n",
       "198                 0            1  \n",
       "\n",
       "[199 rows x 5 columns]"
      ]
     },
     "execution_count": 211,
     "metadata": {},
     "output_type": "execute_result"
    }
   ],
   "source": [
    "merged_df = pd.DataFrame()\n",
    "merged_df['class_probs_model1_color'] = results_df1['class_prob']\n",
    "merged_df['pred_model1_color'] = results_df1['predicted_label']\n",
    "merged_df['class_probs_model2_side'] = results_df2['Class Probabilities']\n",
    "merged_df['pred_model2_side'] = results_df2['Predicted Label']\n",
    "merged_df['true_labels'] = results_df1['true_label']\n",
    "\n",
    "merged_df"
   ]
  },
  {
   "cell_type": "code",
   "execution_count": 226,
   "metadata": {},
   "outputs": [
    {
     "data": {
      "text/html": [
       "<div>\n",
       "<style scoped>\n",
       "    .dataframe tbody tr th:only-of-type {\n",
       "        vertical-align: middle;\n",
       "    }\n",
       "\n",
       "    .dataframe tbody tr th {\n",
       "        vertical-align: top;\n",
       "    }\n",
       "\n",
       "    .dataframe thead th {\n",
       "        text-align: right;\n",
       "    }\n",
       "</style>\n",
       "<table border=\"1\" class=\"dataframe\">\n",
       "  <thead>\n",
       "    <tr style=\"text-align: right;\">\n",
       "      <th></th>\n",
       "      <th>class_probs_model1_color</th>\n",
       "      <th>pred_model1_color</th>\n",
       "      <th>class_probs_model2_side</th>\n",
       "      <th>pred_model2_side</th>\n",
       "      <th>true_labels</th>\n",
       "      <th>weighted_vote</th>\n",
       "      <th>weighted_vote_binary</th>\n",
       "    </tr>\n",
       "  </thead>\n",
       "  <tbody>\n",
       "    <tr>\n",
       "      <th>0</th>\n",
       "      <td>0.016023</td>\n",
       "      <td>0</td>\n",
       "      <td>0.000367</td>\n",
       "      <td>0</td>\n",
       "      <td>0</td>\n",
       "      <td>0.014</td>\n",
       "      <td>0</td>\n",
       "    </tr>\n",
       "    <tr>\n",
       "      <th>1</th>\n",
       "      <td>0.568752</td>\n",
       "      <td>1</td>\n",
       "      <td>0.894325</td>\n",
       "      <td>1</td>\n",
       "      <td>1</td>\n",
       "      <td>0.601</td>\n",
       "      <td>1</td>\n",
       "    </tr>\n",
       "    <tr>\n",
       "      <th>2</th>\n",
       "      <td>0.003446</td>\n",
       "      <td>0</td>\n",
       "      <td>0.009980</td>\n",
       "      <td>0</td>\n",
       "      <td>0</td>\n",
       "      <td>0.004</td>\n",
       "      <td>0</td>\n",
       "    </tr>\n",
       "    <tr>\n",
       "      <th>3</th>\n",
       "      <td>0.568752</td>\n",
       "      <td>1</td>\n",
       "      <td>0.895022</td>\n",
       "      <td>1</td>\n",
       "      <td>1</td>\n",
       "      <td>0.601</td>\n",
       "      <td>1</td>\n",
       "    </tr>\n",
       "    <tr>\n",
       "      <th>4</th>\n",
       "      <td>0.562920</td>\n",
       "      <td>1</td>\n",
       "      <td>0.018549</td>\n",
       "      <td>0</td>\n",
       "      <td>1</td>\n",
       "      <td>0.508</td>\n",
       "      <td>1</td>\n",
       "    </tr>\n",
       "    <tr>\n",
       "      <th>...</th>\n",
       "      <td>...</td>\n",
       "      <td>...</td>\n",
       "      <td>...</td>\n",
       "      <td>...</td>\n",
       "      <td>...</td>\n",
       "      <td>...</td>\n",
       "      <td>...</td>\n",
       "    </tr>\n",
       "    <tr>\n",
       "      <th>194</th>\n",
       "      <td>0.033750</td>\n",
       "      <td>0</td>\n",
       "      <td>0.034388</td>\n",
       "      <td>0</td>\n",
       "      <td>0</td>\n",
       "      <td>0.034</td>\n",
       "      <td>0</td>\n",
       "    </tr>\n",
       "    <tr>\n",
       "      <th>195</th>\n",
       "      <td>0.568752</td>\n",
       "      <td>1</td>\n",
       "      <td>0.890232</td>\n",
       "      <td>1</td>\n",
       "      <td>1</td>\n",
       "      <td>0.601</td>\n",
       "      <td>1</td>\n",
       "    </tr>\n",
       "    <tr>\n",
       "      <th>196</th>\n",
       "      <td>0.057280</td>\n",
       "      <td>0</td>\n",
       "      <td>0.015134</td>\n",
       "      <td>0</td>\n",
       "      <td>1</td>\n",
       "      <td>0.053</td>\n",
       "      <td>0</td>\n",
       "    </tr>\n",
       "    <tr>\n",
       "      <th>197</th>\n",
       "      <td>0.003989</td>\n",
       "      <td>0</td>\n",
       "      <td>0.400080</td>\n",
       "      <td>0</td>\n",
       "      <td>0</td>\n",
       "      <td>0.044</td>\n",
       "      <td>0</td>\n",
       "    </tr>\n",
       "    <tr>\n",
       "      <th>198</th>\n",
       "      <td>0.376987</td>\n",
       "      <td>0</td>\n",
       "      <td>0.011036</td>\n",
       "      <td>0</td>\n",
       "      <td>1</td>\n",
       "      <td>0.340</td>\n",
       "      <td>0</td>\n",
       "    </tr>\n",
       "  </tbody>\n",
       "</table>\n",
       "<p>199 rows × 7 columns</p>\n",
       "</div>"
      ],
      "text/plain": [
       "     class_probs_model1_color  pred_model1_color  class_probs_model2_side  \\\n",
       "0                    0.016023                  0                 0.000367   \n",
       "1                    0.568752                  1                 0.894325   \n",
       "2                    0.003446                  0                 0.009980   \n",
       "3                    0.568752                  1                 0.895022   \n",
       "4                    0.562920                  1                 0.018549   \n",
       "..                        ...                ...                      ...   \n",
       "194                  0.033750                  0                 0.034388   \n",
       "195                  0.568752                  1                 0.890232   \n",
       "196                  0.057280                  0                 0.015134   \n",
       "197                  0.003989                  0                 0.400080   \n",
       "198                  0.376987                  0                 0.011036   \n",
       "\n",
       "     pred_model2_side  true_labels  weighted_vote  weighted_vote_binary  \n",
       "0                   0            0          0.014                     0  \n",
       "1                   1            1          0.601                     1  \n",
       "2                   0            0          0.004                     0  \n",
       "3                   1            1          0.601                     1  \n",
       "4                   0            1          0.508                     1  \n",
       "..                ...          ...            ...                   ...  \n",
       "194                 0            0          0.034                     0  \n",
       "195                 1            1          0.601                     1  \n",
       "196                 0            1          0.053                     0  \n",
       "197                 0            0          0.044                     0  \n",
       "198                 0            1          0.340                     0  \n",
       "\n",
       "[199 rows x 7 columns]"
      ]
     },
     "execution_count": 226,
     "metadata": {},
     "output_type": "execute_result"
    }
   ],
   "source": [
    "def weighted_vote(row):\n",
    "    # higher weight for the model with higher accuracy\n",
    "    w1 = 0.9\n",
    "    w2 = 0.1\n",
    "\n",
    "    vote = w1 * row['class_probs_model1_color'] + w2 * row['class_probs_model2_side']\n",
    "\n",
    "    return round(vote, 3)\n",
    "\n",
    "merged_df['weighted_vote'] = merged_df.apply(weighted_vote, axis=1)\n",
    "merged_df['weighted_vote_binary'] = merged_df['weighted_vote'].apply(lambda x: 1 if x >= 0.5 else 0)\n",
    "merged_df"
   ]
  },
  {
   "cell_type": "code",
   "execution_count": 227,
   "metadata": {},
   "outputs": [
    {
     "data": {
      "text/plain": [
       "0.8894472361809045"
      ]
     },
     "execution_count": 227,
     "metadata": {},
     "output_type": "execute_result"
    }
   ],
   "source": [
    "# Calculate the accuracy given scikit\n",
    "acc = accuracy_score(merged_df['true_labels'], merged_df['weighted_vote_binary'])\n",
    "\n",
    "acc"
   ]
  },
  {
   "cell_type": "markdown",
   "source": [
    "### Mid-level fusion"
   ],
   "metadata": {
    "collapsed": false
   }
  },
  {
   "cell_type": "code",
   "execution_count": 6,
   "outputs": [],
   "source": [
    "import cv2\n",
    "from sklearn.model_selection import train_test_split\n",
    "import numpy as np\n",
    "import matplotlib.pyplot as plt\n",
    "from scipy.cluster.vq import kmeans, vq\n",
    "from sklearn.preprocessing import StandardScaler\n",
    "from sklearn.svm import SVC\n",
    "from sklearn.metrics import accuracy_score\n",
    "from sklearn.metrics import ConfusionMatrixDisplay"
   ],
   "metadata": {
    "collapsed": false
   }
  },
  {
   "cell_type": "code",
   "execution_count": 7,
   "outputs": [],
   "source": [
    "# Splitting the data into train and test\n",
    "X_train, X_test, y_train, y_test = train_test_split(df[['color_cam_path', 'side_cam_path']], df['labels'],\n",
    "                                                    random_state=42)"
   ],
   "metadata": {
    "collapsed": false
   }
  },
  {
   "cell_type": "markdown",
   "source": [
    "#### Feature extraction using ORB"
   ],
   "metadata": {
    "collapsed": false
   }
  },
  {
   "cell_type": "code",
   "execution_count": 8,
   "outputs": [],
   "source": [
    "def ORB_color(paths):\n",
    "    des_list = []\n",
    "    orb = cv2.ORB_create()\n",
    "    for i in range(0, len(paths)):\n",
    "        img = cv2.imread(paths[i])\n",
    "        kp, des = orb.detectAndCompute(img, None)\n",
    "        des_list.append((paths[i], des))\n",
    "    return des_list\n",
    "\n",
    "\n",
    "def ORB_side(paths):\n",
    "    des_list = []\n",
    "    orb = cv2.ORB_create()\n",
    "    for i in range(0, len(paths)):\n",
    "        img = cv2.imread(paths[i])\n",
    "        kp, des = orb.detectAndCompute(img, None)\n",
    "        des_list.append((paths[i], des))\n",
    "    return des_list"
   ],
   "metadata": {
    "collapsed": false
   }
  },
  {
   "cell_type": "code",
   "execution_count": 9,
   "outputs": [],
   "source": [
    "def feature_extraction(des_list):\n",
    "    # Convert the features into a numpy array\n",
    "    descriptors = des_list[0][1]\n",
    "    for image_path, descriptor in des_list[1:]:\n",
    "        descriptors = np.vstack((descriptors, descriptor))\n",
    "    # Convert into float\n",
    "    descriptors_float = descriptors.astype(float)\n",
    "    # Clustering the features\n",
    "    kmeans_retrval, variance = kmeans(descriptors_float, k_or_guess=35)\n",
    "    # Create a histogram of features\n",
    "    im_features = np.zeros((len(des_list), 35), \"float32\")\n",
    "    for i in range(len(des_list)):\n",
    "        words, distance = vq(des_list[i][1], kmeans_retrval)\n",
    "        for w in words:\n",
    "            im_features[i][w] += 1\n",
    "    return im_features\n",
    "\n",
    "def train_and_classify(im_features, labels):\n",
    "    ### Scaling the features\n",
    "    scaler = StandardScaler().fit(im_features)\n",
    "    im_features = scaler.transform(im_features)\n",
    "\n",
    "    # Classify the images\n",
    "    clf = SVC(kernel='linear', C=1, probability=True, max_iter=20, random_state=42).fit(im_features, labels)\n",
    "    return clf\n",
    "\n",
    "# Evaluate the model\n",
    "list_of_accuracy = []\n",
    "def evaluate_model(y_test, y_predict, method, dataset, list_of_accuracy):\n",
    "    ConfusionMatrixDisplay.from_predictions(y_test, y_predict)\n",
    "    plt.show()\n",
    "    accuracy_description = f\"The accuracy score of {method} with {dataset} is {accuracy_score(y_test, y_predict)}\"\n",
    "    list_of_accuracy.append(accuracy_description)\n",
    "    for i in list_of_accuracy:\n",
    "        print(i)"
   ],
   "metadata": {
    "collapsed": false
   }
  },
  {
   "cell_type": "code",
   "execution_count": 10,
   "outputs": [],
   "source": [
    "# Model training using ORB with color cam\n",
    "descriptors_color = ORB_color(X_train['color_cam_path'].values.tolist())\n",
    "featrues_color = feature_extraction(descriptors_color)\n",
    "clf_color = train_and_classify(featrues_color, y_train)"
   ],
   "metadata": {
    "collapsed": false
   }
  },
  {
   "cell_type": "code",
   "execution_count": 11,
   "outputs": [
    {
     "data": {
      "text/plain": "<Figure size 640x480 with 2 Axes>",
      "image/png": "[encoded data removed]"
     },
     "metadata": {},
     "output_type": "display_data"
    },
    {
     "name": "stdout",
     "output_type": "stream",
     "text": [
      "The accuracy score of ORB with color cam is 0.37349397590361444\n"
     ]
    }
   ],
   "source": [
    "# model evaluation\n",
    "descriptors_color_test = ORB_color(X_test['color_cam_path'].values.tolist())\n",
    "featrues_color_test = feature_extraction(descriptors_color_test)\n",
    "y_pred_color = clf_color.predict(featrues_color_test)\n",
    "evaluate_model(y_test, y_pred_color, 'ORB', 'color cam', list_of_accuracy)"
   ],
   "metadata": {
    "collapsed": false
   }
  },
  {
   "cell_type": "code",
   "execution_count": 12,
   "outputs": [],
   "source": [
    "# Model training using ORB with side cam\n",
    "descriptors_side = ORB_side(X_train['side_cam_path'].values.tolist())\n",
    "featrues_side = feature_extraction(descriptors_side)\n",
    "clf_side = train_and_classify(featrues_side, y_train)"
   ],
   "metadata": {
    "collapsed": false
   }
  },
  {
   "cell_type": "code",
   "execution_count": 13,
   "outputs": [
    {
     "data": {
      "text/plain": "<Figure size 640x480 with 2 Axes>",
      "image/png": "[encoded data removed]"
     },
     "metadata": {},
     "output_type": "display_data"
    },
    {
     "name": "stdout",
     "output_type": "stream",
     "text": [
      "The accuracy score of ORB with color cam is 0.37349397590361444\n",
      "The accuracy score of ORB with side cam is 0.7469879518072289\n"
     ]
    }
   ],
   "source": [
    "# Model evaluation\n",
    "descriptors_side_test = ORB_side(X_test['side_cam_path'].values.tolist())\n",
    "featrues_side_test = feature_extraction(descriptors_side_test)\n",
    "y_pred_side = clf_side.predict(featrues_side_test)\n",
    "evaluate_model(y_test, y_pred_side, 'ORB', 'side cam', list_of_accuracy)"
   ],
   "metadata": {
    "collapsed": false
   }
  },
  {
   "cell_type": "markdown",
   "source": [
    "#### Feature extraction using BRISK"
   ],
   "metadata": {
    "collapsed": false
   }
  },
  {
   "cell_type": "code",
   "execution_count": 14,
   "outputs": [],
   "source": [
    "def BRISK_color(paths):\n",
    "    des_list = []\n",
    "    brisk = cv2.BRISK_create(100)\n",
    "    for i in range(0, len(paths)):\n",
    "        img = cv2.imread(paths[i])\n",
    "        kp, des = brisk.detectAndCompute(img, None)\n",
    "        des_list.append((paths[i], des))\n",
    "    return des_list\n",
    "\n",
    "def BRISK_side(paths):\n",
    "    des_list = []\n",
    "    brisk = cv2.BRISK_create(100)\n",
    "    for i in range(0, len(paths)):\n",
    "        img = cv2.imread(paths[i])\n",
    "        kp, des = brisk.detectAndCompute(img, None)\n",
    "        des_list.append((paths[i], des))\n",
    "    return des_list"
   ],
   "metadata": {
    "collapsed": false
   }
  },
  {
   "cell_type": "code",
   "execution_count": 15,
   "outputs": [],
   "source": [
    "# Model training using BRISK with color cam\n",
    "descriptors_color_BRISK = BRISK_color(X_train['color_cam_path'].values.tolist())\n",
    "featrues_color_BRISK = feature_extraction(descriptors_color_BRISK)\n",
    "clf_color_BRISK = train_and_classify(featrues_color_BRISK, y_train)"
   ],
   "metadata": {
    "collapsed": false
   }
  },
  {
   "cell_type": "code",
   "execution_count": 16,
   "outputs": [
    {
     "data": {
      "text/plain": "<Figure size 640x480 with 2 Axes>",
      "image/png": "[encoded data removed]"
     },
     "metadata": {},
     "output_type": "display_data"
    },
    {
     "name": "stdout",
     "output_type": "stream",
     "text": [
      "The accuracy score of ORB with color cam is 0.37349397590361444\n",
      "The accuracy score of ORB with side cam is 0.7469879518072289\n",
      "The accuracy score of BRISK with color cam is 0.714859437751004\n"
     ]
    }
   ],
   "source": [
    "# model evaluation\n",
    "descriptors_color_test_BRISK = BRISK_color(X_test['color_cam_path'].values.tolist())\n",
    "featrues_color_test_BRISK = feature_extraction(descriptors_color_test_BRISK)\n",
    "y_pred_color_BRISK = clf_color_BRISK.predict(featrues_color_test_BRISK)\n",
    "evaluate_model(y_test, y_pred_color_BRISK, 'BRISK', 'color cam', list_of_accuracy)"
   ],
   "metadata": {
    "collapsed": false
   }
  },
  {
   "cell_type": "code",
   "execution_count": 17,
   "outputs": [],
   "source": [
    "#Model training using BRISK with side cam\n",
    "descriptors_side_BRISK = BRISK_side(X_train['side_cam_path'].values.tolist())\n",
    "featrues_side_BRISK = feature_extraction(descriptors_side_BRISK)\n",
    "clf_side_BRISK = train_and_classify(featrues_side_BRISK, y_train)"
   ],
   "metadata": {
    "collapsed": false
   }
  },
  {
   "cell_type": "code",
   "execution_count": 18,
   "outputs": [
    {
     "data": {
      "text/plain": "<Figure size 640x480 with 2 Axes>",
      "image/png": "[encoded data removed]"
     },
     "metadata": {},
     "output_type": "display_data"
    },
    {
     "name": "stdout",
     "output_type": "stream",
     "text": [
      "The accuracy score of ORB with color cam is 0.37349397590361444\n",
      "The accuracy score of ORB with side cam is 0.7469879518072289\n",
      "The accuracy score of BRISK with color cam is 0.714859437751004\n",
      "The accuracy score of BRISK with side cam is 0.6224899598393574\n"
     ]
    }
   ],
   "source": [
    "# Model evaluation\n",
    "descriptors_side_test_BRISK = BRISK_side(X_test['side_cam_path'].values.tolist())\n",
    "featrues_side_test_BRISK = feature_extraction(descriptors_side_test_BRISK)\n",
    "y_pred_side_BRISK = clf_side_BRISK.predict(featrues_side_test_BRISK)\n",
    "evaluate_model(y_test, y_pred_side_BRISK, 'BRISK', 'side cam', list_of_accuracy)"
   ],
   "metadata": {
    "collapsed": false
   }
  },
  {
   "cell_type": "markdown",
   "source": [
    "#### Feature extraction using SIFT"
   ],
   "metadata": {
    "collapsed": false
   }
  },
  {
   "cell_type": "code",
   "execution_count": 19,
   "outputs": [],
   "source": [
    "def SIFT_color(paths):\n",
    "    des_list = []\n",
    "    sift = cv2.xfeatures2d.SIFT_create(400)\n",
    "    for i in range(0, len(paths)):\n",
    "        img = cv2.imread(paths[i], 0)\n",
    "        kp, des = sift.detectAndCompute(img, None)\n",
    "        des_list.append((paths[i], des))\n",
    "    return des_list\n",
    "\n",
    "def SIFT_side(paths):\n",
    "    des_list = []\n",
    "    sift = cv2.xfeatures2d.SIFT_create(400)\n",
    "    for i in range(0, len(paths)):\n",
    "        img = cv2.imread(paths[i])\n",
    "        kp, des = sift.detectAndCompute(img, None)\n",
    "        des_list.append((paths[i], des))\n",
    "    return des_list"
   ],
   "metadata": {
    "collapsed": false
   }
  },
  {
   "cell_type": "code",
   "execution_count": 20,
   "outputs": [
    {
     "name": "stderr",
     "output_type": "stream",
     "text": [
      "[ WARN:0@2173.610] global /private/var/folders/sy/f16zz6x50xz3113nwtb9bvq00000gp/T/abs_506zufg7xt/croots/recipe/opencv-suite_1664548331847/work/opencv_contrib-4.6.0/modules/xfeatures2d/misc/python/shadow_sift.hpp (15) SIFT_create DEPRECATED: cv.xfeatures2d.SIFT_create() is deprecated due SIFT tranfer to the main repository. https://github.com/opencv/opencv/issues/16736\n"
     ]
    }
   ],
   "source": [
    "# Model training using SIFT with color cam\n",
    "descriptors_color_SIFT = SIFT_color(X_train['color_cam_path'].values.tolist())\n",
    "featrues_color_SIFT = feature_extraction(descriptors_color_SIFT)\n",
    "clf_color_SIFT = train_and_classify(featrues_color_SIFT, y_train)"
   ],
   "metadata": {
    "collapsed": false
   }
  },
  {
   "cell_type": "code",
   "execution_count": 21,
   "outputs": [
    {
     "data": {
      "text/plain": "<Figure size 640x480 with 2 Axes>",
      "image/png": "[encoded data removed]"
     },
     "metadata": {},
     "output_type": "display_data"
    },
    {
     "name": "stdout",
     "output_type": "stream",
     "text": [
      "The accuracy score of ORB with color cam is 0.37349397590361444\n",
      "The accuracy score of ORB with side cam is 0.7469879518072289\n",
      "The accuracy score of BRISK with color cam is 0.714859437751004\n",
      "The accuracy score of BRISK with side cam is 0.6224899598393574\n",
      "The accuracy score of SIFT with color cam is 0.30120481927710846\n"
     ]
    }
   ],
   "source": [
    "# model evaluation\n",
    "descriptors_color_test_SIFT = SIFT_color(X_test['color_cam_path'].values.tolist())\n",
    "featrues_color_test_SIFT = feature_extraction(descriptors_color_test_SIFT)\n",
    "y_pred_color_SIFT = clf_color_SIFT.predict(featrues_color_test_SIFT)\n",
    "evaluate_model(y_test, y_pred_color_SIFT, 'SIFT', 'color cam', list_of_accuracy)"
   ],
   "metadata": {
    "collapsed": false
   }
  },
  {
   "cell_type": "code",
   "execution_count": 22,
   "outputs": [],
   "source": [
    "# Model training using SIFT with side cam\n",
    "descriptors_side_SIFT = SIFT_side(X_train['side_cam_path'].values.tolist())\n",
    "featrues_side_SIFT = feature_extraction(descriptors_side_SIFT)\n",
    "clf_side_SIFT = train_and_classify(featrues_side_SIFT, y_train)"
   ],
   "metadata": {
    "collapsed": false
   }
  },
  {
   "cell_type": "code",
   "execution_count": 23,
   "outputs": [
    {
     "data": {
      "text/plain": "<Figure size 640x480 with 2 Axes>",
      "image/png": "[encoded data removed]"
     },
     "metadata": {},
     "output_type": "display_data"
    },
    {
     "name": "stdout",
     "output_type": "stream",
     "text": [
      "The accuracy score of ORB with color cam is 0.37349397590361444\n",
      "The accuracy score of ORB with side cam is 0.7469879518072289\n",
      "The accuracy score of BRISK with color cam is 0.714859437751004\n",
      "The accuracy score of BRISK with side cam is 0.6224899598393574\n",
      "The accuracy score of SIFT with color cam is 0.30120481927710846\n",
      "The accuracy score of SIFT with side cam is 0.714859437751004\n"
     ]
    }
   ],
   "source": [
    "# Model evaluation\n",
    "descriptors_side_test_SIFT = SIFT_side(X_test['side_cam_path'].values.tolist())\n",
    "featrues_side_test_SIFT = feature_extraction(descriptors_side_test_SIFT)\n",
    "y_pred_side_SIFT = clf_side_SIFT.predict(featrues_side_test_SIFT)\n",
    "evaluate_model(y_test, y_pred_side_SIFT, 'SIFT', 'side cam', list_of_accuracy)"
   ],
   "metadata": {
    "collapsed": false
   }
  },
  {
   "cell_type": "markdown",
   "source": [
    "#### Result after data fusion"
   ],
   "metadata": {
    "collapsed": false
   }
  },
  {
   "cell_type": "code",
   "execution_count": 24,
   "outputs": [
    {
     "name": "stdout",
     "output_type": "stream",
     "text": [
      "The accuracy score of color_cam_prediction is 0.714859437751004\n",
      "The accuracy score of side_cam_prediction is 0.714859437751004\n",
      "The accuracy score of prediction is 0.714859437751004\n"
     ]
    }
   ],
   "source": [
    "y_test = y_test.reset_index(drop=True)\n",
    "y_pred_color = (y_pred_color*0.1 + y_pred_color_BRISK*0.8 + y_pred_color_SIFT*0.1) / 3\n",
    "y_color_weighted = np.where(y_pred_color >= 0.5, 1, 0)\n",
    "result = pd.concat([y_test, pd.DataFrame(y_color_weighted, columns=['color_cam_prediction'])], axis=1)\n",
    "print(\n",
    "    f\"The accuracy score of color_cam_prediction is {accuracy_score(result[['labels']], result[['color_cam_prediction']])}\")\n",
    "\n",
    "# Classification of side cam\n",
    "y_pred_side = (y_pred_side * 0.45 + y_pred_side_SIFT * 0.45 + y_pred_side_BRISK*0.1) / 3\n",
    "y_side_weighted = np.where(y_pred_side >= 0.5, 1, 0)\n",
    "result = pd.concat([result, pd.DataFrame(y_side_weighted, columns=['side_cam_prediction'])], axis=1)\n",
    "print(\n",
    "    f\"The accuracy score of side_cam_prediction is {accuracy_score(result[['labels']], result[['side_cam_prediction']])}\")\n",
    "\n",
    "# Assign weight to the results of color cam and side cam\n",
    "result['prediction'] = (result['color_cam_prediction'] + result['side_cam_prediction']) / 2\n",
    "result['prediction'] = np.where(result['prediction'] >= 0.5, 1, 0)\n",
    "print(f\"The accuracy score of prediction is {accuracy_score(result[['labels']], result[['prediction']])}\")"
   ],
   "metadata": {
    "collapsed": false
   }
  }
 ],
 "metadata": {
  "kernelspec": {
   "display_name": "Python 3 (ipykernel)",
   "language": "python",
   "name": "python3"
  },
  "language_info": {
   "codemirror_mode": {
    "name": "ipython",
    "version": 3
   },
   "file_extension": ".py",
   "mimetype": "text/x-python",
   "name": "python",
   "nbconvert_exporter": "python",
   "pygments_lexer": "ipython3",
   "version": "3.9.7"
  },
  "vscode": {
   "interpreter": {
    "hash": "aee8b7b246df8f9039afb4144a1f6fd8d2ca17a180786b69acc140d282b71a49"
   }
  }
 },
 "nbformat": 4,
 "nbformat_minor": 2
}
