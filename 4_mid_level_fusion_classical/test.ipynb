{
 "cells": [
  {
   "cell_type": "code",
   "execution_count": 1,
   "metadata": {},
   "outputs": [],
   "source": [
    "import os\n",
    "import albumentations as A\n",
    "import matplotlib.pyplot as plt\n",
    "from collections import deque\n",
    "from PIL import Image\n",
    "import numpy as np\n",
    "import cv2\n",
    "import pandas as pd\n",
    "from tqdm import tqdm\n",
    "\n",
    "from dataset import PlantDataset\n",
    "\n",
    "DATA_PATH = '../data/'\n"
   ]
  },
  {
   "cell_type": "code",
   "execution_count": 2,
   "metadata": {},
   "outputs": [],
   "source": [
    "#training dataset\n",
    "dataset_train = PlantDataset(set_dir='train').df\n",
    "#testing dataset\n",
    "dataset_valid = PlantDataset(set_dir='valid').df"
   ]
  },
  {
   "cell_type": "markdown",
   "metadata": {},
   "source": [
    "# Mid-Level Fusion\n",
    "### Extracting features with LBP: Local Binary Pattern"
   ]
  },
  {
   "cell_type": "code",
   "execution_count": 6,
   "metadata": {},
   "outputs": [],
   "source": [
    "from skimage import io, feature\n",
    "def ext_colored_features(path):\n",
    "    # Load the image\n",
    "    img = io.imread(path, as_gray=True)\n",
    "    color_features = feature.local_binary_pattern(img, P=8, R=1.0, method='uniform')\n",
    "    color_features = color_features.reshape((color_features.shape[0], -1))\n",
    "    color_hist, _ = np.histogram(color_features.ravel(), bins=np.arange(0,27), range=(0,26))\n",
    "    color_hist = color_hist.astype(\"float\")\n",
    "    color_hist /= (color_hist.sum() + 1e-7)\n",
    "    return color_hist\n",
    "    \n",
    "def ext_side_features(path):\n",
    "    # Load the image\n",
    "    img = io.imread(path)\n",
    "    side_features = feature.local_binary_pattern(img, P=8, R=1.0, method='uniform')\n",
    "    side_features = side_features.reshape((side_features.shape[0], -1))\n",
    "    side_hist, _ = np.histogram(side_features.ravel(), bins=np.arange(0,27), range=(0,26))\n",
    "    side_hist = side_hist.astype(\"float\")\n",
    "    side_hist /= (side_hist.sum() + 1e-7)\n",
    "    return side_hist"
   ]
  },
  {
   "cell_type": "code",
   "execution_count": 7,
   "metadata": {},
   "outputs": [
    {
     "name": "stderr",
     "output_type": "stream",
     "text": [
      "/Library/Frameworks/Python.framework/Versions/3.10/lib/python3.10/site-packages/skimage/feature/texture.py:353: UserWarning: Applying `local_binary_pattern` to floating-point images may give unexpected results when small numerical differences between adjacent pixels are present. It is recommended to use this function with images of integer dtype.\n",
      "  warnings.warn(\n"
     ]
    },
    {
     "name": "stdout",
     "output_type": "stream",
     "text": [
      "Accuracy: 0.8873239436619719\n",
      "Accuracy: 0.9456740442655935\n",
      "Accuracy: 0.954728370221328\n"
     ]
    }
   ],
   "source": [
    "import numpy as np\n",
    "import matplotlib.pyplot as plt\n",
    "from sklearn.model_selection import train_test_split\n",
    "from sklearn.neighbors import KNeighborsClassifier\n",
    "from sklearn.metrics import accuracy_score\n",
    "from sklearn.ensemble import VotingClassifier \n",
    "\n",
    "#divide instances into training and testing \n",
    "X_train = dataset_train[[\"color_cam_path\",\"side_cam_path\"]]\n",
    "y_train = dataset_train[\"Label\"]\n",
    "X_test = dataset_valid[[\"color_cam_path\",\"side_cam_path\"]]\n",
    "y_test = dataset_valid[\"Label\"]\n",
    "\n",
    "features_lbp_color_tr = []\n",
    "features_lbp_side_tr = []\n",
    "features_lbp_color_ts = []\n",
    "features_lbp_side_ts = []\n",
    "\n",
    "# features_lbp_color_tr= [ext_colored_features(DATA_PATH + path) for path in X_train[\"color_cam_path\"]]\n",
    "\n",
    "for path in X_train[\"color_cam_path\"]:\n",
    "    features_lbp_color_tr.append(ext_colored_features(DATA_PATH + path))\n",
    "for path in X_train[\"side_cam_path\"]:\n",
    "    features_lbp_side_tr.append(ext_side_features(DATA_PATH + path))\n",
    "for path in X_test[\"color_cam_path\"]:\n",
    "    features_lbp_color_ts.append(ext_colored_features(DATA_PATH + path))\n",
    "for path in X_test[\"side_cam_path\"]:\n",
    "    features_lbp_side_ts.append(ext_side_features(DATA_PATH + path))\n",
    "\n",
    "# Train KNN classifier\n",
    "knn_color = KNeighborsClassifier(n_neighbors=5)\n",
    "knn_color.fit(features_lbp_color_tr, y_train)\n",
    "\n",
    "# Predict labels for test set\n",
    "y_pred = knn_color.predict(features_lbp_color_ts)\n",
    "\n",
    "# Evaluate classifier performance\n",
    "accuracy_color = accuracy_score(y_test, y_pred)\n",
    "print('Accuracy:', accuracy_color)\n",
    "\n",
    "# Train KNN classifier\n",
    "knn_side = KNeighborsClassifier(n_neighbors=5)\n",
    "knn_side.fit(features_lbp_side_tr, y_train)\n",
    "\n",
    "# Predict labels for test set\n",
    "y_pred = knn_side.predict(features_lbp_side_ts)\n",
    "\n",
    "# Evaluate classifier performance\n",
    "accuracy_side = accuracy_score(y_test, y_pred)\n",
    "print('Accuracy:', accuracy_side)\n",
    "\n",
    "fused_features_tr = np.concatenate([features_lbp_color_tr, features_lbp_side_tr], axis=1)\n",
    "fused_features_ts = np.concatenate([features_lbp_color_ts, features_lbp_side_ts], axis=1)\n",
    "# Train KNN classifier\n",
    "knn_fused = KNeighborsClassifier(n_neighbors=5)\n",
    "knn_fused.fit(fused_features_tr, y_train)\n",
    "\n",
    "# Predict labels for test set\n",
    "y_pred = knn_fused.predict(fused_features_ts)\n",
    "\n",
    "# Evaluate classifier performance\n",
    "accuracy_fused = accuracy_score(y_test, y_pred)\n",
    "print('Accuracy:', accuracy_fused)\n",
    "\n",
    "    "
   ]
  },
  {
   "cell_type": "markdown",
   "metadata": {},
   "source": [
    "### Extracting features with ORB"
   ]
  },
  {
   "cell_type": "code",
   "execution_count": 139,
   "metadata": {},
   "outputs": [],
   "source": [
    "import cv2\n",
    "import numpy as np\n",
    "import matplotlib.pyplot as plt\n",
    "from scipy.cluster.vq import kmeans, vq\n",
    "from sklearn.preprocessing import StandardScaler\n",
    "from sklearn.svm import SVC\n",
    "from sklearn.metrics import accuracy_score\n",
    "from sklearn.metrics import ConfusionMatrixDisplay"
   ]
  },
  {
   "cell_type": "code",
   "execution_count": 140,
   "metadata": {
    "collapsed": false
   },
   "outputs": [],
   "source": [
    "#divide instances into training and testing\n",
    "X_train = dataset_train[[\"color_cam_path\",\"side_cam_path\"]]\n",
    "y_train = dataset_train[\"Label\"]\n",
    "X_test = dataset_valid[[\"color_cam_path\",\"side_cam_path\"]]\n",
    "y_test = dataset_valid[\"Label\"]"
   ]
  },
  {
   "cell_type": "code",
   "execution_count": 141,
   "metadata": {},
   "outputs": [],
   "source": [
    "def ORB_color(paths):\n",
    "    des_list = []\n",
    "    orb = cv2.ORB_create()\n",
    "    for i in range(0, len(paths)):\n",
    "        img = cv2.imread(paths[i])\n",
    "        gray = cv2.cvtColor(img, cv2.COLOR_BGR2GRAY)\n",
    "        kp, des = orb.detectAndCompute(gray, None)\n",
    "        des_list.append((paths[i], des))\n",
    "    return des_list\n",
    "\n",
    "\n",
    "def ORB_side(paths):\n",
    "    des_list = []\n",
    "    orb = cv2.ORB_create()\n",
    "    for i in range(0, len(paths)):\n",
    "        img = cv2.imread(paths[i])\n",
    "        kp, des = orb.detectAndCompute(img, None)\n",
    "        des_list.append((paths[i], des))\n",
    "    return des_list"
   ]
  },
  {
   "cell_type": "code",
   "execution_count": 142,
   "metadata": {},
   "outputs": [],
   "source": [
    "def feature_extraction(des_list):\n",
    "    # Convert the features into a numpy array\n",
    "    descriptors = des_list[0][1]\n",
    "    for image_path, descriptor in des_list[1:]:\n",
    "        descriptors = np.vstack((descriptors, descriptor))\n",
    "    # Convert into float\n",
    "    descriptors_float = descriptors.astype(float)\n",
    "    # Clustering the features\n",
    "    centroids, variance = kmeans(descriptors_float, k_or_guess=25)\n",
    "    # Create a histogram of features\n",
    "    im_features = np.zeros((len(des_list), 25), \"float32\")\n",
    "    for i in range(len(des_list)):\n",
    "        words, distance = vq(des_list[i][1], centroids)\n",
    "        for w in words:\n",
    "            im_features[i][w] += 1\n",
    "    return im_features\n",
    "\n",
    "def train_and_classify(im_features, labels):\n",
    "    ### Scaling the features\n",
    "    scaler = StandardScaler().fit(im_features)\n",
    "    im_features = scaler.transform(im_features)\n",
    "\n",
    "    # Classify the images\n",
    "    clf = SVC(kernel='linear', C=1, probability=True, max_iter=100).fit(im_features, labels)\n",
    "    return clf\n",
    "\n",
    "# Evaluate the model\n",
    "list_of_accuracy = []\n",
    "def evaluate_model(y_test, y_predict, method, dataset, list_of_accuracy):\n",
    "    ConfusionMatrixDisplay.from_predictions(y_test, y_predict)\n",
    "    plt.show()\n",
    "    accuracy_description = f\"The accuracy score of {method} with {dataset} is {accuracy_score(y_test, y_predict)}\"\n",
    "    list_of_accuracy.append(accuracy_description)\n",
    "    for i in list_of_accuracy:\n",
    "        print(i)"
   ]
  },
  {
   "cell_type": "code",
   "execution_count": 143,
   "metadata": {},
   "outputs": [
    {
     "name": "stderr",
     "output_type": "stream",
     "text": [
      "/Users/guoyonghui/opt/anaconda3/envs/usual/lib/python3.8/site-packages/sklearn/svm/_base.py:299: ConvergenceWarning: Solver terminated early (max_iter=100).  Consider pre-processing your data with StandardScaler or MinMaxScaler.\n",
      "  warnings.warn(\n"
     ]
    }
   ],
   "source": [
    "# Model training using ORB with color cam\n",
    "descriptors_color_ORB = ORB_color(X_train['color_cam_path'].apply(lambda x: DATA_PATH + x).values.tolist())\n",
    "features_color_ORB = feature_extraction(descriptors_color_ORB)\n",
    "clf_color_ORB = train_and_classify(features_color_ORB, y_train)"
   ]
  },
  {
   "cell_type": "code",
   "execution_count": 144,
   "metadata": {},
   "outputs": [
    {
     "data": {
      "image/png": "[encoded data removed]",
      "text/plain": [
       "<Figure size 640x480 with 2 Axes>"
      ]
     },
     "metadata": {},
     "output_type": "display_data"
    },
    {
     "name": "stdout",
     "output_type": "stream",
     "text": [
      "The accuracy score of ORB with color cam is 0.5191146881287726\n"
     ]
    }
   ],
   "source": [
    "# model evaluation\n",
    "descriptors_color_test_ORB = ORB_color(X_test['color_cam_path'].apply(lambda x: DATA_PATH + x).values.tolist())\n",
    "features_color_test_ORB = feature_extraction(descriptors_color_test_ORB)\n",
    "y_pred_color_ORB = clf_color_ORB.predict(features_color_test_ORB)\n",
    "evaluate_model(y_test, y_pred_color_ORB, 'ORB', 'color cam', list_of_accuracy)"
   ]
  },
  {
   "cell_type": "code",
   "execution_count": 145,
   "metadata": {
    "collapsed": false
   },
   "outputs": [
    {
     "name": "stderr",
     "output_type": "stream",
     "text": [
      "/Users/guoyonghui/opt/anaconda3/envs/usual/lib/python3.8/site-packages/sklearn/svm/_base.py:299: ConvergenceWarning: Solver terminated early (max_iter=100).  Consider pre-processing your data with StandardScaler or MinMaxScaler.\n",
      "  warnings.warn(\n"
     ]
    }
   ],
   "source": [
    "# Model training using ORB with side cam\n",
    "descriptors_side_ORB = ORB_side(X_train['side_cam_path'].apply(lambda x: DATA_PATH + x).values.tolist())\n",
    "features_side_ORB = feature_extraction(descriptors_side_ORB)\n",
    "clf_side_ORB = train_and_classify(features_side_ORB, y_train)"
   ]
  },
  {
   "cell_type": "code",
   "execution_count": 146,
   "metadata": {
    "collapsed": false
   },
   "outputs": [
    {
     "data": {
      "image/png": "[encoded data removed]",
      "text/plain": [
       "<Figure size 640x480 with 2 Axes>"
      ]
     },
     "metadata": {},
     "output_type": "display_data"
    },
    {
     "name": "stdout",
     "output_type": "stream",
     "text": [
      "The accuracy score of ORB with color cam is 0.5191146881287726\n",
      "The accuracy score of ORB with side cam is 0.7022132796780685\n"
     ]
    }
   ],
   "source": [
    "# model evaluation\n",
    "descriptors_side_test_ORB = ORB_side(X_test['side_cam_path'].apply(lambda x: DATA_PATH + x).values.tolist())\n",
    "features_side_test_ORB = feature_extraction(descriptors_side_test_ORB)\n",
    "y_pred_side_ORB = clf_side_ORB.predict(features_side_test_ORB)\n",
    "evaluate_model(y_test, y_pred_side_ORB, 'ORB', 'side cam', list_of_accuracy)"
   ]
  },
  {
   "cell_type": "markdown",
   "metadata": {
    "collapsed": false
   },
   "source": [
    "### Extracting features with BRISK"
   ]
  },
  {
   "cell_type": "code",
   "execution_count": 147,
   "metadata": {
    "collapsed": false
   },
   "outputs": [],
   "source": [
    "def BRISK_color(paths):\n",
    "    des_list = []\n",
    "    brisk = cv2.BRISK_create(70, 4)\n",
    "    for i in range(0, len(paths)):\n",
    "        img = cv2.imread(paths[i])\n",
    "        gray = cv2.cvtColor(img, cv2.COLOR_BGR2GRAY)\n",
    "        kp, des = brisk.detectAndCompute(gray, None)\n",
    "        des_list.append((paths[i], des))\n",
    "    return des_list\n",
    "\n",
    "def BRISK_side(paths):\n",
    "    des_list = []\n",
    "    brisk = cv2.BRISK_create(70, 4)\n",
    "    for i in range(0, len(paths)):\n",
    "        img = cv2.imread(paths[i])\n",
    "        kp, des = brisk.detectAndCompute(img, None)\n",
    "        des_list.append((paths[i], des))\n",
    "    return des_list"
   ]
  },
  {
   "cell_type": "code",
   "execution_count": 148,
   "metadata": {
    "collapsed": false
   },
   "outputs": [
    {
     "name": "stderr",
     "output_type": "stream",
     "text": [
      "/Users/guoyonghui/opt/anaconda3/envs/usual/lib/python3.8/site-packages/sklearn/svm/_base.py:299: ConvergenceWarning: Solver terminated early (max_iter=100).  Consider pre-processing your data with StandardScaler or MinMaxScaler.\n",
      "  warnings.warn(\n"
     ]
    }
   ],
   "source": [
    "# Model training using BRISK with color cam\n",
    "descriptors_color_BRISK = BRISK_color(X_train['color_cam_path'].apply(lambda x: DATA_PATH + x).values.tolist())\n",
    "features_color_BRISK = feature_extraction(descriptors_color_BRISK)\n",
    "clf_color_BRISK = train_and_classify(features_color_BRISK, y_train)"
   ]
  },
  {
   "cell_type": "code",
   "execution_count": 149,
   "metadata": {
    "collapsed": false
   },
   "outputs": [
    {
     "data": {
      "image/png": "[encoded data removed]",
      "text/plain": [
       "<Figure size 640x480 with 2 Axes>"
      ]
     },
     "metadata": {},
     "output_type": "display_data"
    },
    {
     "name": "stdout",
     "output_type": "stream",
     "text": [
      "The accuracy score of ORB with color cam is 0.5191146881287726\n",
      "The accuracy score of ORB with side cam is 0.7022132796780685\n",
      "The accuracy score of BRISK with color cam is 0.5533199195171026\n"
     ]
    }
   ],
   "source": [
    "# model evaluation\n",
    "descriptors_color_test_BRISK = BRISK_color(X_test['color_cam_path'].apply(lambda x: DATA_PATH + x).values.tolist())\n",
    "features_color_test_BRISK = feature_extraction(descriptors_color_test_BRISK)\n",
    "y_pred_color_BRISK = clf_color_BRISK.predict(features_color_test_BRISK)\n",
    "evaluate_model(y_test, y_pred_color_BRISK, 'BRISK', 'color cam', list_of_accuracy)"
   ]
  },
  {
   "cell_type": "code",
   "execution_count": 150,
   "metadata": {
    "collapsed": false
   },
   "outputs": [
    {
     "name": "stderr",
     "output_type": "stream",
     "text": [
      "/Users/guoyonghui/opt/anaconda3/envs/usual/lib/python3.8/site-packages/sklearn/svm/_base.py:299: ConvergenceWarning: Solver terminated early (max_iter=100).  Consider pre-processing your data with StandardScaler or MinMaxScaler.\n",
      "  warnings.warn(\n"
     ]
    }
   ],
   "source": [
    "# Model training using BRISK with side cam\n",
    "descriptors_side_BRISK = BRISK_side(X_train['side_cam_path'].apply(lambda x: DATA_PATH + x).values.tolist())\n",
    "features_side_BRISK = feature_extraction(descriptors_side_BRISK)\n",
    "clf_side_BRISK = train_and_classify(features_side_BRISK, y_train)"
   ]
  },
  {
   "cell_type": "code",
   "execution_count": 151,
   "metadata": {
    "collapsed": false
   },
   "outputs": [
    {
     "data": {
      "image/png": "[encoded data removed]",
      "text/plain": [
       "<Figure size 640x480 with 2 Axes>"
      ]
     },
     "metadata": {},
     "output_type": "display_data"
    },
    {
     "name": "stdout",
     "output_type": "stream",
     "text": [
      "The accuracy score of ORB with color cam is 0.5191146881287726\n",
      "The accuracy score of ORB with side cam is 0.7022132796780685\n",
      "The accuracy score of BRISK with color cam is 0.5533199195171026\n",
      "The accuracy score of BRISK with side cam is 0.7022132796780685\n"
     ]
    }
   ],
   "source": [
    "# Model evaluation\n",
    "descriptors_side_test_BRISK = BRISK_side(X_test['side_cam_path'].apply(lambda x: DATA_PATH + x).values.tolist())\n",
    "features_side_test_BRISK = feature_extraction(descriptors_side_test_BRISK)\n",
    "y_pred_side_BRISK = clf_side_BRISK.predict(features_side_test_BRISK)\n",
    "evaluate_model(y_test, y_pred_side_BRISK, 'BRISK', 'side cam', list_of_accuracy)"
   ]
  },
  {
   "cell_type": "markdown",
   "metadata": {
    "collapsed": false
   },
   "source": [
    "### Extracting features with SIFT"
   ]
  },
  {
   "cell_type": "code",
   "execution_count": 152,
   "metadata": {
    "collapsed": false
   },
   "outputs": [],
   "source": [
    "def SIFT_color(paths):\n",
    "    des_list = []\n",
    "    sift = cv2.xfeatures2d.SIFT_create(200)\n",
    "    for i in range(0, len(paths)):\n",
    "        img = cv2.imread(paths[i])\n",
    "        gray = cv2.cvtColor(img, cv2.COLOR_BGR2GRAY)\n",
    "        kp, des = sift.detectAndCompute(gray, None)\n",
    "        des_list.append((paths[i], des))\n",
    "    return des_list\n",
    "\n",
    "def SIFT_side(paths):\n",
    "    des_list = []\n",
    "    sift = cv2.xfeatures2d.SIFT_create(200)\n",
    "    for i in range(0, len(paths)):\n",
    "        img = cv2.imread(paths[i])\n",
    "        kp, des = sift.detectAndCompute(img, None)\n",
    "        des_list.append((paths[i], des))\n",
    "    return des_list"
   ]
  },
  {
   "cell_type": "code",
   "execution_count": 153,
   "metadata": {
    "collapsed": false
   },
   "outputs": [
    {
     "name": "stderr",
     "output_type": "stream",
     "text": [
      "/Users/guoyonghui/opt/anaconda3/envs/usual/lib/python3.8/site-packages/sklearn/svm/_base.py:299: ConvergenceWarning: Solver terminated early (max_iter=100).  Consider pre-processing your data with StandardScaler or MinMaxScaler.\n",
      "  warnings.warn(\n"
     ]
    }
   ],
   "source": [
    "# Model training using SIFT with color cam\n",
    "descriptors_color_SIFT = SIFT_color(X_train['color_cam_path'].apply(lambda x: DATA_PATH + x).values.tolist())\n",
    "features_color_SIFT = feature_extraction(descriptors_color_SIFT)\n",
    "clf_color_SIFT = train_and_classify(features_color_SIFT, y_train)"
   ]
  },
  {
   "cell_type": "code",
   "execution_count": 154,
   "metadata": {
    "collapsed": false
   },
   "outputs": [
    {
     "data": {
      "image/png": "[encoded data removed]",
      "text/plain": [
       "<Figure size 640x480 with 2 Axes>"
      ]
     },
     "metadata": {},
     "output_type": "display_data"
    },
    {
     "name": "stdout",
     "output_type": "stream",
     "text": [
      "The accuracy score of ORB with color cam is 0.5191146881287726\n",
      "The accuracy score of ORB with side cam is 0.7022132796780685\n",
      "The accuracy score of BRISK with color cam is 0.5533199195171026\n",
      "The accuracy score of BRISK with side cam is 0.7022132796780685\n",
      "The accuracy score of SIFT with color cam is 0.7092555331991952\n"
     ]
    }
   ],
   "source": [
    "# Model evaluation\n",
    "descriptors_color_test_SIFT = SIFT_color(X_test['color_cam_path'].apply(lambda x: DATA_PATH + x).values.tolist())\n",
    "features_color_test_SIFT = feature_extraction(descriptors_color_test_SIFT)\n",
    "y_pred_color_SIFT = clf_color_SIFT.predict(features_color_test_SIFT)\n",
    "evaluate_model(y_test, y_pred_color_SIFT, 'SIFT', 'color cam', list_of_accuracy)"
   ]
  },
  {
   "cell_type": "code",
   "execution_count": 155,
   "metadata": {
    "collapsed": false
   },
   "outputs": [
    {
     "name": "stderr",
     "output_type": "stream",
     "text": [
      "/Users/guoyonghui/opt/anaconda3/envs/usual/lib/python3.8/site-packages/sklearn/svm/_base.py:299: ConvergenceWarning: Solver terminated early (max_iter=100).  Consider pre-processing your data with StandardScaler or MinMaxScaler.\n",
      "  warnings.warn(\n"
     ]
    }
   ],
   "source": [
    "# Model training using SIFT with side cam\n",
    "descriptors_side_SIFT = SIFT_side(X_train['side_cam_path'].apply(lambda x: DATA_PATH + x).values.tolist())\n",
    "features_side_SIFT = feature_extraction(descriptors_side_SIFT)\n",
    "clf_side_SIFT = train_and_classify(features_side_SIFT, y_train)"
   ]
  },
  {
   "cell_type": "code",
   "execution_count": 156,
   "metadata": {
    "collapsed": false
   },
   "outputs": [
    {
     "data": {
      "image/png": "[encoded data removed]",
      "text/plain": [
       "<Figure size 640x480 with 2 Axes>"
      ]
     },
     "metadata": {},
     "output_type": "display_data"
    },
    {
     "name": "stdout",
     "output_type": "stream",
     "text": [
      "The accuracy score of ORB with color cam is 0.5191146881287726\n",
      "The accuracy score of ORB with side cam is 0.7022132796780685\n",
      "The accuracy score of BRISK with color cam is 0.5533199195171026\n",
      "The accuracy score of BRISK with side cam is 0.7022132796780685\n",
      "The accuracy score of SIFT with color cam is 0.7092555331991952\n",
      "The accuracy score of SIFT with side cam is 0.6951710261569416\n"
     ]
    }
   ],
   "source": [
    "# Model evaluation\n",
    "descriptors_side_test_SIFT = SIFT_side(X_test['side_cam_path'].apply(lambda x: DATA_PATH + x).values.tolist())\n",
    "features_side_test_SIFT = feature_extraction(descriptors_side_test_SIFT)\n",
    "y_pred_side_SIFT = clf_side_SIFT.predict(features_side_test_SIFT)\n",
    "evaluate_model(y_test, y_pred_side_SIFT, 'SIFT', 'side cam', list_of_accuracy)"
   ]
  },
  {
   "cell_type": "markdown",
   "metadata": {
    "collapsed": false
   },
   "source": [
    "### Result after data fusion"
   ]
  },
  {
   "cell_type": "code",
   "execution_count": 175,
   "metadata": {
    "collapsed": false
   },
   "outputs": [
    {
     "name": "stdout",
     "output_type": "stream",
     "text": [
      "The accuracy score of color cam is 0.35110663983903423\n",
      "The accuracy score of side cam is 0.306841046277666\n",
      "The accuracy score of fused model is 0.45271629778672035\n"
     ]
    },
    {
     "name": "stderr",
     "output_type": "stream",
     "text": [
      "/Users/guoyonghui/opt/anaconda3/envs/usual/lib/python3.8/site-packages/sklearn/svm/_base.py:299: ConvergenceWarning: Solver terminated early (max_iter=100).  Consider pre-processing your data with StandardScaler or MinMaxScaler.\n",
      "  warnings.warn(\n",
      "/Users/guoyonghui/opt/anaconda3/envs/usual/lib/python3.8/site-packages/sklearn/svm/_base.py:299: ConvergenceWarning: Solver terminated early (max_iter=100).  Consider pre-processing your data with StandardScaler or MinMaxScaler.\n",
      "  warnings.warn(\n",
      "/Users/guoyonghui/opt/anaconda3/envs/usual/lib/python3.8/site-packages/sklearn/svm/_base.py:299: ConvergenceWarning: Solver terminated early (max_iter=100).  Consider pre-processing your data with StandardScaler or MinMaxScaler.\n",
      "  warnings.warn(\n"
     ]
    }
   ],
   "source": [
    "# features fusion\n",
    "features_color_train = np.concatenate((features_color_ORB, features_color_BRISK, features_color_SIFT), axis=1)\n",
    "features_side_train = np.concatenate((features_side_ORB, features_side_BRISK, features_side_SIFT), axis=1)\n",
    "clf_color_fused = train_and_classify(features_color_train, y_train)\n",
    "clf_side_fused = train_and_classify(features_side_train, y_train)\n",
    "features_color_test = np.concatenate((features_color_test_ORB, features_color_test_BRISK, features_color_test_SIFT), axis=1)\n",
    "features_side_test = np.concatenate((features_side_test_ORB, features_side_test_BRISK, features_side_test_SIFT), axis=1)\n",
    "y_pred_color = clf_color_fused.predict(features_color_test)\n",
    "y_pred_side = clf_side_fused.predict(features_side_test)\n",
    "print(f\"The accuracy score of color cam is {accuracy_score(y_test, y_pred_color)}\")\n",
    "print(f\"The accuracy score of side cam is {accuracy_score(y_test, y_pred_side)}\")\n",
    "\n",
    "#model fusion\n",
    "features_train = np.concatenate((features_color_train, features_side_train), axis=1)\n",
    "features_test = np.concatenate((features_color_test, features_side_test), axis=1)\n",
    "clf_fused = train_and_classify(features_train, y_train)\n",
    "y_pred = clf_fused.predict(features_test)\n",
    "print(f\"The accuracy score of fused model is {accuracy_score(y_test, y_pred)}\")"
   ]
  },
  {
   "cell_type": "code",
   "execution_count": 174,
   "metadata": {
    "collapsed": false
   },
   "outputs": [
    {
     "name": "stdout",
     "output_type": "stream",
     "text": [
      "The accuracy score of color cam is 0.6991951710261569\n",
      "The accuracy score of side cam is 0.7062374245472837\n",
      "The accuracy score of fused model is 0.704225352112676\n"
     ]
    },
    {
     "name": "stderr",
     "output_type": "stream",
     "text": [
      "/Users/guoyonghui/opt/anaconda3/envs/usual/lib/python3.8/site-packages/sklearn/svm/_base.py:299: ConvergenceWarning: Solver terminated early (max_iter=100).  Consider pre-processing your data with StandardScaler or MinMaxScaler.\n",
      "  warnings.warn(\n",
      "/Users/guoyonghui/opt/anaconda3/envs/usual/lib/python3.8/site-packages/sklearn/svm/_base.py:299: ConvergenceWarning: Solver terminated early (max_iter=100).  Consider pre-processing your data with StandardScaler or MinMaxScaler.\n",
      "  warnings.warn(\n",
      "/Users/guoyonghui/opt/anaconda3/envs/usual/lib/python3.8/site-packages/sklearn/svm/_base.py:299: ConvergenceWarning: Solver terminated early (max_iter=100).  Consider pre-processing your data with StandardScaler or MinMaxScaler.\n",
      "  warnings.warn(\n"
     ]
    }
   ],
   "source": [
    "# Feature fusion with weighted average\n",
    "from sklearn.preprocessing import MinMaxScaler\n",
    "mmscaler = MinMaxScaler()\n",
    "# Normalization\n",
    "features_color_ORB_normalized = mmscaler.fit_transform(features_color_ORB)\n",
    "features_color_BRISK_normalized = mmscaler.fit_transform(features_color_BRISK)\n",
    "features_color_SIFT_normalized = mmscaler.fit_transform(features_color_SIFT)\n",
    "features_side_ORB_normalized = mmscaler.fit_transform(features_side_ORB)\n",
    "features_side_BRISK_normalized = mmscaler.fit_transform(features_side_BRISK)\n",
    "features_side_SIFT_normalized = mmscaler.fit_transform(features_side_SIFT)\n",
    "\n",
    "features_color_ORB_test_normalized = mmscaler.fit_transform(features_color_test_ORB)\n",
    "features_color_BRISK_test_normalized = mmscaler.fit_transform(features_color_test_BRISK)\n",
    "features_color_SIFT_test_normalized = mmscaler.fit_transform(features_color_test_SIFT)\n",
    "features_side_ORB_test_normalized = mmscaler.fit_transform(features_side_test_ORB)\n",
    "features_side_BRISK_test_normalized = mmscaler.fit_transform(features_side_test_BRISK)\n",
    "features_side_SIFT_test_normalized = mmscaler.fit_transform(features_side_test_SIFT)\n",
    "\n",
    "# weight for each feature\n",
    "w_c_ORB = 0.25\n",
    "w_c_BRISK = 0.25\n",
    "w_c_SIFT = 0.5\n",
    "w_s_ORB = 0.35\n",
    "w_s_BRISK = 0.35\n",
    "w_s_SIFT = 0.3\n",
    "\n",
    "# weighted average training\n",
    "features_color_train_weighted = w_c_ORB * features_color_ORB_normalized + w_c_BRISK * features_color_BRISK_normalized + w_c_SIFT * features_color_SIFT_normalized\n",
    "features_side_train_weighted = w_s_ORB * features_side_ORB_normalized + w_s_BRISK * features_side_BRISK_normalized + w_s_SIFT * features_side_SIFT_normalized\n",
    "clf_color_fused_weighted = train_and_classify(features_color_train_weighted, y_train)\n",
    "clf_side_fused_weighted = train_and_classify(features_side_train_weighted, y_train)\n",
    "\n",
    "features_color_test_weighted = w_c_ORB * features_color_test_ORB + w_c_BRISK * features_color_test_BRISK + w_c_SIFT * features_color_test_SIFT\n",
    "features_side_test_weighted = w_s_ORB * features_side_test_ORB + w_s_BRISK * features_side_test_BRISK + w_s_SIFT * features_side_test_SIFT\n",
    "y_pred_color_weighted = clf_color_fused_weighted.predict(features_color_test_weighted)\n",
    "y_pred_side_weighted = clf_side_fused_weighted.predict(features_side_test_weighted)\n",
    "print(f\"The accuracy score of color cam is {accuracy_score(y_test, y_pred_color_weighted)}\")\n",
    "print(f\"The accuracy score of side cam is {accuracy_score(y_test, y_pred_side_weighted)}\")\n",
    "\n",
    "# Fusion of two datasets\n",
    "features_color_train_normalized = mmscaler.fit_transform(features_color_train_weighted)\n",
    "features_side_train_normalized = mmscaler.fit_transform(features_side_train_weighted)\n",
    "features_color_test_normalized = mmscaler.fit_transform(features_color_test_weighted)\n",
    "features_side_test_normalized = mmscaler.fit_transform(features_side_test_weighted)\n",
    "\n",
    "w_c = 0.4\n",
    "w_s = 0.6\n",
    "features_train_weighted = w_c * features_color_train_normalized + w_s * features_side_train_normalized\n",
    "features_test_weighted = w_c * features_color_test_normalized + w_s * features_side_test_normalized\n",
    "clf_fused_weighted = train_and_classify(features_train_weighted, y_train)\n",
    "y_pred_weighted = clf_fused_weighted.predict(features_test_weighted)\n",
    "print(f\"The accuracy score of fused model is {accuracy_score(y_test, y_pred_weighted)}\")"
   ]
  },
  {
   "cell_type": "code",
   "execution_count": 159,
   "metadata": {},
   "outputs": [],
   "source": [
    "# #cgray.cc\n",
    "# #include <stream.h>\n",
    "# #include <String.h>\n",
    "# #include <stdlib.h>\n",
    "# #include <math.h>\n",
    "# void initab(int *, int, int);\n",
    "# int cgray(int *, int *, int *, int *)\n",
    "# int pos2(int *, int);\n",
    "# int even(Jut);\n",
    "# void fixepoint(int *, int,int,int);\n",
    "# void affichetab(int *, int);\n",
    "# int sometab(int *, int);\n",
    "# // call of function cgray from Splus\n",
    "# int cgray(int *x, int *point, int *n, int *k)\n",
    "# {\n",
    "# // calls :\n",
    "# // pos2, fixepoint, affichage,initab, sommetab,even\n",
    "# //\n",
    "# int fini,b;\n",
    "# fini=O;\n",
    "# //first time round call with x=c(O,O,...O)\n",
    "# if(sommetab(x,k)==O)\n",
    "# {\n",
    "# initab(x,k,O); //init of table to zero\n",
    "# x[O]=n;\n",
    "# //cout <<\"\\nfirst vector\\t\";\n",
    "# affichetab(x,k);\n",
    "# fixepoint(point,O,l,O); //fixes first (d,i,p)\n",
    "# return(O);\n",
    "# }\n",
    "# if(x[k-1]==n)\n",
    "# fini=l;\n",
    "# if(point[2]==O)\n",
    "# {\n",
    "# b=pos2(x,k); //index of second non zero element\n",
    "# if(b<=O)\n",
    "# {\n",
    "# //tout <<\"erreur\";\n",
    "# return(-l);\n",
    "# }\n",
    "# if(b==l)\n",
    "# { if((point[O]==O)~&(x[O]==l))\n",
    "# fixepoint(point,O,1,1);\n",
    "# }\n",
    "# } //end p==O\n",
    "# }\n",
    "# else\n",
    "# {\n",
    "# if(even(n-x[O])) fixepoint\n",
    "# (point,O,l,1);\n",
    "# else if(!even(x[b])) fixepoint\n",
    "# (point,O,b,b);\n",
    "# else fixepoint(point,b,O,\n",
    "# point[2]);"
   ]
  }
 ],
 "metadata": {
  "kernelspec": {
   "display_name": "Python 3.10.8 64-bit",
   "language": "python",
   "name": "python3"
  },
  "language_info": {
   "codemirror_mode": {
    "name": "ipython",
    "version": 3
   },
   "file_extension": ".py",
   "mimetype": "text/x-python",
   "name": "python",
   "nbconvert_exporter": "python",
   "pygments_lexer": "ipython3",
   "version": "3.10.8"
  },
  "orig_nbformat": 4,
  "vscode": {
   "interpreter": {
    "hash": "aee8b7b246df8f9039afb4144a1f6fd8d2ca17a180786b69acc140d282b71a49"
   }
  }
 },
 "nbformat": 4,
 "nbformat_minor": 2
}
