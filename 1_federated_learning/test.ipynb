{
 "cells": [
  {
   "cell_type": "code",
   "execution_count": 1,
   "metadata": {},
   "outputs": [],
   "source": [
    "import os\n",
    "import albumentations as A\n",
    "import matplotlib.pyplot as plt\n",
    "from collections import deque\n",
    "from PIL import Image\n",
    "import numpy as np\n",
    "import cv2\n",
    "import pandas as pd\n",
    "from tqdm import tqdm\n",
    "\n",
    "import torch\n",
    "\n",
    "from model import CNN\n",
    "from dataset import PlantDataset\n",
    "\n",
    "DATA_PATH = '../data/'"
   ]
  },
  {
   "cell_type": "code",
   "execution_count": 11,
   "metadata": {},
   "outputs": [],
   "source": [
    "config = dict(\n",
    "\tbatch_size=16,\n",
    "\tdataset='Plant',\n",
    "\timage_height=480, # 480, 960\n",
    "\timage_width=640, # 640, 1280\n",
    ")\n",
    "\n",
    "resize = A.Compose(\n",
    "\t[\n",
    "\t\tA.Resize(height=config['image_height'], width=config['image_width']),\n",
    "\t],\n",
    ")"
   ]
  },
  {
   "cell_type": "code",
   "execution_count": 12,
   "metadata": {},
   "outputs": [
    {
     "name": "stdout",
     "output_type": "stream",
     "text": [
      "A1 26\n",
      "A2 25\n",
      "A4 26\n",
      "A6 26\n",
      "B1 25\n",
      "B2 26\n",
      "B3 26\n",
      "B4 14\n"
     ]
    }
   ],
   "source": [
    "client_directories = ['A1', 'A2', 'A4', 'A6', 'B1', 'B2', 'B3', 'B4']\n",
    "\n",
    "for client_dir in client_directories:\n",
    "\tdataset = PlantDataset(set_dir='valid', client_dir=client_dir, transform=resize)\n",
    "\tprint(client_dir, len(dataset))"
   ]
  },
  {
   "cell_type": "code",
   "execution_count": 14,
   "metadata": {},
   "outputs": [],
   "source": [
    "device = torch.device('cuda:0' if torch.cuda.is_available() else 'cpu')\n",
    "model = CNN().to(device)"
   ]
  },
  {
   "cell_type": "code",
   "execution_count": 31,
   "metadata": {},
   "outputs": [
    {
     "name": "stdout",
     "output_type": "stream",
     "text": [
      "<class 'collections.OrderedDict'>\n",
      "41\n",
      "layer1.0.weight\n",
      "layer1.0.bias\n",
      "layer1.1.weight\n",
      "layer1.1.bias\n",
      "layer1.1.running_mean\n",
      "layer1.1.running_var\n",
      "layer1.1.num_batches_tracked\n",
      "layer2.0.weight\n",
      "layer2.0.bias\n",
      "layer2.1.weight\n",
      "layer2.1.bias\n",
      "layer2.1.running_mean\n",
      "layer2.1.running_var\n",
      "layer2.1.num_batches_tracked\n",
      "layer3.0.weight\n",
      "layer3.0.bias\n",
      "layer3.1.weight\n",
      "layer3.1.bias\n",
      "layer3.1.running_mean\n",
      "layer3.1.running_var\n",
      "layer3.1.num_batches_tracked\n",
      "layer4.0.weight\n",
      "layer4.0.bias\n",
      "layer4.1.weight\n",
      "layer4.1.bias\n",
      "layer4.1.running_mean\n",
      "layer4.1.running_var\n",
      "layer4.1.num_batches_tracked\n",
      "layer5.0.weight\n",
      "layer5.0.bias\n",
      "layer5.1.weight\n",
      "layer5.1.bias\n",
      "layer5.1.running_mean\n",
      "layer5.1.running_var\n",
      "layer5.1.num_batches_tracked\n",
      "fc.1.weight\n",
      "fc.1.bias\n",
      "fc1.1.weight\n",
      "fc1.1.bias\n",
      "fc2.0.weight\n",
      "fc2.0.bias\n"
     ]
    },
    {
     "name": "stderr",
     "output_type": "stream",
     "text": [
      "c:\\Users\\louis\\AppData\\Local\\Programs\\Python\\Python39\\lib\\site-packages\\torch\\nn\\modules\\module.py:1802: UserWarning: Positional args are being deprecated, use kwargs instead. Refer to https://pytorch.org/docs/master/generated/torch.nn.Module.html#torch.nn.Module.state_dict for details.\n",
      "  warnings.warn(\n"
     ]
    }
   ],
   "source": [
    "print(type(model.state_dict()))\n",
    "\n",
    "print(len(model.state_dict()))\n",
    "\n",
    "for aaa in model.state_dict(model.state_dict()):\n",
    "\tprint(aaa)\n"
   ]
  },
  {
   "cell_type": "code",
   "execution_count": 33,
   "metadata": {},
   "outputs": [
    {
     "name": "stdout",
     "output_type": "stream",
     "text": [
      "tensor([-0.0875, -0.0417,  0.1699, -0.1363,  0.0066,  0.0185,  0.1365,  0.0514,\n",
      "        -0.0012,  0.1076, -0.0461,  0.0020,  0.1244,  0.1618, -0.0557, -0.0742],\n",
      "       device='cuda:0')\n"
     ]
    }
   ],
   "source": [
    "print(model.state_dict()['layer1.0.bias'])"
   ]
  },
  {
   "cell_type": "code",
   "execution_count": 44,
   "metadata": {},
   "outputs": [
    {
     "name": "stdout",
     "output_type": "stream",
     "text": [
      "tensor([0.1250, 0.1250, 0.1250, 0.1250, 0.1250, 0.1250, 0.1250, 0.1250, 0.1250,\n",
      "        0.1250, 0.1250, 0.1250, 0.1250, 0.1250, 0.1250, 0.1250],\n",
      "       device='cuda:0')\n",
      "tensor([0.0625, 0.0625, 0.0625, 0.0625, 0.0625, 0.0625, 0.0625, 0.0625, 0.0625,\n",
      "        0.0625, 0.0625, 0.0625, 0.0625, 0.0625, 0.0625, 0.0625],\n",
      "       device='cuda:0')\n"
     ]
    }
   ],
   "source": [
    "\n",
    "state_dict = model.state_dict()\n",
    "\n",
    "print(state_dict['layer1.1.weight'])\n",
    "\n",
    "state_dict['layer1.1.weight'] = state_dict['layer1.1.weight'].float() / 2\n",
    "print(state_dict['layer1.1.weight'])"
   ]
  },
  {
   "cell_type": "code",
   "execution_count": 10,
   "metadata": {},
   "outputs": [],
   "source": [
    "model = CNN()\n",
    "optimizer = torch.optim.SGD(model.parameters(), lr=config['learning_rate'], momentum=config['momentum'])"
   ]
  },
  {
   "cell_type": "code",
   "execution_count": null,
   "metadata": {},
   "outputs": [],
   "source": []
  },
  {
   "cell_type": "code",
   "execution_count": null,
   "metadata": {},
   "outputs": [],
   "source": []
  },
  {
   "cell_type": "code",
   "execution_count": 2,
   "metadata": {},
   "outputs": [],
   "source": [
    "from train import Client, Server"
   ]
  },
  {
   "cell_type": "code",
   "execution_count": 3,
   "metadata": {},
   "outputs": [],
   "source": [
    "config = dict(\n",
    "\tepochs=2,\n",
    "\tbatch_size=16,\n",
    "\tcriterion='BinaryCrossEntropy', # CrossEntropy, BinaryCrossEntropy\n",
    "\toptimizer='SGD', # SGD\n",
    "\tlearning_rate=0.001,\n",
    "\tmomentum=0.9,\n",
    "\tdataset='Plant',\n",
    "\timage_type='color', # color, side\n",
    "\tdata_augmentation=True,\n",
    "\timage_height=480, # 480, 960\n",
    "\timage_width=640, # 640, 1280\n",
    ")"
   ]
  },
  {
   "cell_type": "code",
   "execution_count": 4,
   "metadata": {},
   "outputs": [],
   "source": [
    "client_directories = ['A1', 'A2', 'A4', 'A6', 'B1', 'B2', 'B3', 'B4']\n",
    "clients = []\n",
    "for client_dir in client_directories:\n",
    "\tclients.append(Client(client_dir, config))"
   ]
  },
  {
   "cell_type": "code",
   "execution_count": 7,
   "metadata": {},
   "outputs": [],
   "source": [
    "model_state_dict_total, optimizer_state_dict_total = clients[0].send_to_server()\n",
    "\n",
    "for client in clients[1:]:\n",
    "\tmodel_state_dict, optimizer_state_dict = client.send_to_server()\n",
    "\n",
    "\tfor layer in model_state_dict:\n",
    "\t\tmodel_state_dict_total[layer] = model_state_dict_total[layer].float() + model_state_dict[layer]"
   ]
  },
  {
   "cell_type": "code",
   "execution_count": 6,
   "metadata": {},
   "outputs": [],
   "source": [
    "model_state_dict_total, optimizer_state_dict_total = clients[0].send_to_server()"
   ]
  },
  {
   "cell_type": "code",
   "execution_count": null,
   "metadata": {},
   "outputs": [],
   "source": [
    "for layer in model_state_dict_total:"
   ]
  }
 ],
 "metadata": {
  "kernelspec": {
   "display_name": "Python 3",
   "language": "python",
   "name": "python3"
  },
  "language_info": {
   "codemirror_mode": {
    "name": "ipython",
    "version": 3
   },
   "file_extension": ".py",
   "mimetype": "text/x-python",
   "name": "python",
   "nbconvert_exporter": "python",
   "pygments_lexer": "ipython3",
   "version": "3.9.2"
  },
  "orig_nbformat": 4
 },
 "nbformat": 4,
 "nbformat_minor": 2
}
